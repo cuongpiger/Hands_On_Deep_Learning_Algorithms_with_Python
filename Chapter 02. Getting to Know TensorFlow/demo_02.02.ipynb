{
 "cells": [
  {
   "cell_type": "code",
   "execution_count": 6,
   "source": [
    "import tensorflow as tf\n",
    "import numpy as np\n",
    "import matplotlib.pyplot as plt"
   ],
   "outputs": [],
   "metadata": {}
  },
  {
   "cell_type": "markdown",
   "source": [
    "# 6. Introducing eager execution [Giới thiệu về Eager Execution]\n",
    "* Chúng ta dễ dàng thấy rằng quá là phiền phức mỗi khi chúng ta muốn visualize ra một graph, nào là phải tạo ra một session, `tf.reset_default_graph()` và phải xác định các placeholder. Nhưng với Eager execution thì chúng ta có thể loại bỏ đi mọi thứ trên.\n",
    "* Đoạn code dưới đây là cách mà chúng ta lập trình từ chapter 1 tới giờ:"
   ],
   "metadata": {}
  },
  {
   "cell_type": "code",
   "execution_count": 3,
   "source": [
    "x = tf.constant(11)\n",
    "y = tf.constant(11)\n",
    "z = x*y\n",
    "\n",
    "with tf.Session() as sess:\n",
    "    print(sess.run(z))"
   ],
   "outputs": [
    {
     "output_type": "stream",
     "name": "stdout",
     "text": [
      "121\n"
     ]
    }
   ],
   "metadata": {}
  },
  {
   "cell_type": "markdown",
   "source": [
    "* Nhưng với eager execution, chúng ta chỉ việc khai báo dòng ở đầu script và từ đây về sau chúng ta ko cần phải khai báo session để chạy như trc đây nữa:\n",
    "  ```python\n",
    "  tf.enable_eager_execution()\n",
    "  ```"
   ],
   "metadata": {}
  },
  {
   "cell_type": "code",
   "execution_count": 7,
   "source": [
    "tf.enable_eager_execution()"
   ],
   "outputs": [],
   "metadata": {}
  },
  {
   "cell_type": "code",
   "execution_count": 4,
   "source": [
    "x = tf.constant(11)\n",
    "y = tf.constant(11)\n",
    "z = x*y\n",
    "\n",
    "print(z)"
   ],
   "outputs": [
    {
     "output_type": "stream",
     "name": "stdout",
     "text": [
      "tf.Tensor(121, shape=(), dtype=int32)\n"
     ]
    }
   ],
   "metadata": {}
  },
  {
   "cell_type": "markdown",
   "source": [
    "* Bây giờ để lấy giá trị output, chúng ta có thể dùng dòng code dưới đây:"
   ],
   "metadata": {}
  },
  {
   "cell_type": "code",
   "execution_count": 5,
   "source": [
    "z.numpy()"
   ],
   "outputs": [
    {
     "output_type": "execute_result",
     "data": {
      "text/plain": [
       "121"
      ]
     },
     "metadata": {},
     "execution_count": 5
    }
   ],
   "metadata": {}
  },
  {
   "cell_type": "markdown",
   "source": [
    "# 7. Math operations in TensorFlow\n",
    "* Bây giờ chúng ta sẽ tìm hiểu các phép tính trog TensorFlow thông qua eager execution mode:"
   ],
   "metadata": {}
  },
  {
   "cell_type": "code",
   "execution_count": 18,
   "source": [
    "x = tf.constant(np.arange(1, 4, dtype=np.float))\n",
    "y = tf.constant(np.arange(3, 0, -1, dtype=np.float))\n",
    "\n",
    "print(\"x: \", x.numpy())\n",
    "print(\"y: \", y.numpy())"
   ],
   "outputs": [
    {
     "output_type": "stream",
     "name": "stdout",
     "text": [
      "x:  [1. 2. 3.]\n",
      "y:  [3. 2. 1.]\n"
     ]
    }
   ],
   "metadata": {}
  },
  {
   "cell_type": "markdown",
   "source": [
    "* Để thực hiện phép cộng hai số, dùng `tf.add()`"
   ],
   "metadata": {}
  },
  {
   "cell_type": "code",
   "execution_count": 13,
   "source": [
    "sum = tf.add(x, y)\n",
    "\n",
    "sum.numpy()"
   ],
   "outputs": [
    {
     "output_type": "execute_result",
     "data": {
      "text/plain": [
       "array([4., 4., 4.])"
      ]
     },
     "metadata": {},
     "execution_count": 13
    }
   ],
   "metadata": {}
  },
  {
   "cell_type": "markdown",
   "source": [
    "* Để thực hiện phép trừ hai số, dùng `tf.subtract()`"
   ],
   "metadata": {}
  },
  {
   "cell_type": "code",
   "execution_count": 14,
   "source": [
    "difference = tf.subtract(x, y)\n",
    "\n",
    "difference.numpy()"
   ],
   "outputs": [
    {
     "output_type": "execute_result",
     "data": {
      "text/plain": [
       "array([-2.,  0.,  2.])"
      ]
     },
     "metadata": {},
     "execution_count": 14
    }
   ],
   "metadata": {}
  },
  {
   "cell_type": "markdown",
   "source": [
    "* Để nhân bình thường hai số, dùng `tf.multiply()`"
   ],
   "metadata": {}
  },
  {
   "cell_type": "code",
   "execution_count": 15,
   "source": [
    "product = tf.multiply(x, y)\n",
    "\n",
    "product.numpy()"
   ],
   "outputs": [
    {
     "output_type": "execute_result",
     "data": {
      "text/plain": [
       "array([3., 4., 3.])"
      ]
     },
     "metadata": {},
     "execution_count": 15
    }
   ],
   "metadata": {}
  },
  {
   "cell_type": "markdown",
   "source": [
    "* Để chia hai số dùng `tf.divide()`"
   ],
   "metadata": {}
  },
  {
   "cell_type": "code",
   "execution_count": 19,
   "source": [
    "division = tf.divide(x, y)\n",
    "\n",
    "division.numpy()"
   ],
   "outputs": [
    {
     "output_type": "execute_result",
     "data": {
      "text/plain": [
       "array([0.33333333, 1.        , 3.        ])"
      ]
     },
     "metadata": {},
     "execution_count": 19
    }
   ],
   "metadata": {}
  },
  {
   "cell_type": "markdown",
   "source": [
    "* Dot product của hai số, thì làm như sau:"
   ],
   "metadata": {}
  },
  {
   "cell_type": "code",
   "execution_count": 20,
   "source": [
    "dot_product = tf.reduce_sum(tf.multiply(x, y))\n",
    "\n",
    "dot_product.numpy()"
   ],
   "outputs": [
    {
     "output_type": "execute_result",
     "data": {
      "text/plain": [
       "10.0"
      ]
     },
     "metadata": {},
     "execution_count": 20
    }
   ],
   "metadata": {}
  },
  {
   "cell_type": "markdown",
   "source": [
    "* Tìm index của minimum và maximun element trong một vector bằng hàm `tf.argmin()` và `tf.argmax()`"
   ],
   "metadata": {}
  },
  {
   "cell_type": "code",
   "execution_count": 21,
   "source": [
    "x = tf.constant([10, 0, 13, 9, 9, 13])\n",
    "\n",
    "print(\"Index of minimum element: \", tf.argmin(x).numpy())\n",
    "print(\"Index of maximum element: \", tf.argmax(x).numpy())"
   ],
   "outputs": [
    {
     "output_type": "stream",
     "name": "stdout",
     "text": [
      "Index of minimum element:  1\n",
      "Index of maximum element:  2\n"
     ]
    }
   ],
   "metadata": {}
  },
  {
   "cell_type": "markdown",
   "source": [
    "* Dùng `tf.math.squared_difference(<x>, <y>)` để tính hiệu bình phương của hai số:\n",
    "  $$\\textbf{Squared difference }(x, y) = (x - y)^2$$"
   ],
   "metadata": {}
  },
  {
   "cell_type": "code",
   "execution_count": 22,
   "source": [
    "x = tf.Variable([1, 3, 5, 7, 11])\n",
    "y = tf.Variable([1])\n",
    "\n",
    "tf.math.squared_difference(x, y).numpy()"
   ],
   "outputs": [
    {
     "output_type": "execute_result",
     "data": {
      "text/plain": [
       "array([  0,   4,  16,  36, 100], dtype=int32)"
      ]
     },
     "metadata": {},
     "execution_count": 22
    }
   ],
   "metadata": {}
  },
  {
   "cell_type": "markdown",
   "source": [
    "* In kiểu dữ liệu như sau"
   ],
   "metadata": {}
  },
  {
   "cell_type": "code",
   "execution_count": 23,
   "source": [
    "x = tf.Variable(69)\n",
    "\n",
    "print(x.dtype)"
   ],
   "outputs": [
    {
     "output_type": "stream",
     "name": "stdout",
     "text": [
      "<dtype: 'int32'>\n"
     ]
    }
   ],
   "metadata": {}
  },
  {
   "cell_type": "code",
   "execution_count": 25,
   "source": [
    "x = tf.Variable(np.arange(1, 4))\n",
    "\n",
    "x.dtype"
   ],
   "outputs": [
    {
     "output_type": "execute_result",
     "data": {
      "text/plain": [
       "tf.int64"
      ]
     },
     "metadata": {},
     "execution_count": 25
    }
   ],
   "metadata": {}
  },
  {
   "cell_type": "markdown",
   "source": [
    "* Để chuyển đổi kiểu dữ liệu, dùng hàm `tf.cast()`"
   ],
   "metadata": {}
  },
  {
   "cell_type": "code",
   "execution_count": 27,
   "source": [
    "x = tf.Variable(np.arange(1, 4))\n",
    "print(\"Before casting: \", x.dtype)\n",
    "\n",
    "x = tf.cast(x, dtype=tf.float32)\n",
    "print(\"After casting: \", x.dtype)"
   ],
   "outputs": [
    {
     "output_type": "stream",
     "name": "stdout",
     "text": [
      "Before casting:  <dtype: 'int64'>\n",
      "After casting:  <dtype: 'float32'>\n"
     ]
    }
   ],
   "metadata": {}
  },
  {
   "cell_type": "markdown",
   "source": [
    "* Để nối hai matrix"
   ],
   "metadata": {}
  },
  {
   "cell_type": "code",
   "execution_count": 28,
   "source": [
    "x = [[3, 6, 9], [7, 7, 7]]\n",
    "y = [[4, 5, 6], [5, 5, 5]]"
   ],
   "outputs": [],
   "metadata": {}
  },
  {
   "cell_type": "markdown",
   "source": [
    "* ...\n",
    "  * Nối theo dòng"
   ],
   "metadata": {}
  },
  {
   "cell_type": "code",
   "execution_count": 29,
   "source": [
    "tf.concat([x, y], 0).numpy()"
   ],
   "outputs": [
    {
     "output_type": "execute_result",
     "data": {
      "text/plain": [
       "array([[3, 6, 9],\n",
       "       [7, 7, 7],\n",
       "       [4, 5, 6],\n",
       "       [5, 5, 5]], dtype=int32)"
      ]
     },
     "metadata": {},
     "execution_count": 29
    }
   ],
   "metadata": {}
  },
  {
   "cell_type": "markdown",
   "source": [
    "* ...\n",
    "  * Nối theo cột"
   ],
   "metadata": {}
  },
  {
   "cell_type": "code",
   "execution_count": 30,
   "source": [
    "tf.concat([x, y], 1).numpy()"
   ],
   "outputs": [
    {
     "output_type": "execute_result",
     "data": {
      "text/plain": [
       "array([[3, 6, 9, 4, 5, 6],\n",
       "       [7, 7, 7, 5, 5, 5]], dtype=int32)"
      ]
     },
     "metadata": {},
     "execution_count": 30
    }
   ],
   "metadata": {}
  },
  {
   "cell_type": "markdown",
   "source": [
    "* Để tạo một stack từ các thành phần của ma trận"
   ],
   "metadata": {}
  },
  {
   "cell_type": "code",
   "execution_count": 31,
   "source": [
    "x = [[3, 6, 9], [7, 7, 7]]"
   ],
   "outputs": [],
   "metadata": {}
  },
  {
   "cell_type": "code",
   "execution_count": 32,
   "source": [
    "tf.stack(x, axis=1).numpy()"
   ],
   "outputs": [
    {
     "output_type": "execute_result",
     "data": {
      "text/plain": [
       "array([[3, 7],\n",
       "       [6, 7],\n",
       "       [9, 7]], dtype=int32)"
      ]
     },
     "metadata": {},
     "execution_count": 32
    }
   ],
   "metadata": {}
  },
  {
   "cell_type": "markdown",
   "source": [
    "* Tính mean bằng `reduce_mean()`"
   ],
   "metadata": {}
  },
  {
   "cell_type": "code",
   "execution_count": 33,
   "source": [
    "x = tf.Variable([[1., 5.], [2., 3.]])\n",
    "x.numpy()"
   ],
   "outputs": [
    {
     "output_type": "execute_result",
     "data": {
      "text/plain": [
       "array([[1., 5.],\n",
       "       [2., 3.]], dtype=float32)"
      ]
     },
     "metadata": {},
     "execution_count": 33
    }
   ],
   "metadata": {}
  },
  {
   "cell_type": "markdown",
   "source": [
    "* ...\n",
    "  * Lúc này $\\text{mean} = \\dfrac{1.0 + 5.0 + 2.0 + 3.0}{4}$"
   ],
   "metadata": {}
  },
  {
   "cell_type": "code",
   "execution_count": 35,
   "source": [
    "print(tf.reduce_mean(x).numpy())\n",
    "print(tf.reduce_mean(input_tensor=x).numpy())"
   ],
   "outputs": [
    {
     "output_type": "stream",
     "name": "stdout",
     "text": [
      "2.75\n",
      "2.75\n"
     ]
    }
   ],
   "metadata": {}
  },
  {
   "cell_type": "markdown",
   "source": [
    "* ...\n",
    "  * Tính mean theo dòng, $\\text{mean dòng 1} = \\dfrac{1.0 + 5.0}{2}$, $\\text{mean dòng 2} = \\dfrac{2.0 + 3.0}{2}$"
   ],
   "metadata": {}
  },
  {
   "cell_type": "code",
   "execution_count": 36,
   "source": [
    "tf.reduce_mean(input_tensor=x, axis=0).numpy()"
   ],
   "outputs": [
    {
     "output_type": "execute_result",
     "data": {
      "text/plain": [
       "array([1.5, 4. ], dtype=float32)"
      ]
     },
     "metadata": {},
     "execution_count": 36
    }
   ],
   "metadata": {}
  },
  {
   "cell_type": "markdown",
   "source": [
    "* ...\n",
    "  * Tính mean theo cột"
   ],
   "metadata": {}
  },
  {
   "cell_type": "code",
   "execution_count": 37,
   "source": [
    "tf.reduce_mean(x, axis=1, keepdims=True).numpy()"
   ],
   "outputs": [
    {
     "output_type": "execute_result",
     "data": {
      "text/plain": [
       "array([[3. ],\n",
       "       [2.5]], dtype=float32)"
      ]
     },
     "metadata": {},
     "execution_count": 37
    }
   ],
   "metadata": {}
  },
  {
   "cell_type": "code",
   "execution_count": 38,
   "source": [
    "tf.reduce_mean(x, axis=1).numpy()"
   ],
   "outputs": [
    {
     "output_type": "execute_result",
     "data": {
      "text/plain": [
       "array([3. , 2.5], dtype=float32)"
      ]
     },
     "metadata": {},
     "execution_count": 38
    }
   ],
   "metadata": {}
  },
  {
   "cell_type": "markdown",
   "source": [
    "* Random các giá trị theo một phân phối xác suất nào đó"
   ],
   "metadata": {}
  },
  {
   "cell_type": "code",
   "execution_count": 39,
   "source": [
    "tf.random.normal(shape=(3, 2), mean=10.0, stddev=2.0).numpy()"
   ],
   "outputs": [
    {
     "output_type": "execute_result",
     "data": {
      "text/plain": [
       "array([[12.1354685,  5.3779345],\n",
       "       [11.619761 ,  9.7982025],\n",
       "       [ 8.976714 , 10.248131 ]], dtype=float32)"
      ]
     },
     "metadata": {},
     "execution_count": 39
    }
   ],
   "metadata": {}
  },
  {
   "cell_type": "code",
   "execution_count": 40,
   "source": [
    "tf.random.uniform(shape=(3, 2), minval=0, maxval=None, dtype=tf.float32).numpy()"
   ],
   "outputs": [
    {
     "output_type": "execute_result",
     "data": {
      "text/plain": [
       "array([[0.15728581, 0.21118307],\n",
       "       [0.33489215, 0.6082493 ],\n",
       "       [0.82520115, 0.42798138]], dtype=float32)"
      ]
     },
     "metadata": {},
     "execution_count": 40
    }
   ],
   "metadata": {}
  },
  {
   "cell_type": "markdown",
   "source": [
    "* Tính toán hàm xác suất softmax<br>\n",
    "  ![](./images/02.11.jpeg)"
   ],
   "metadata": {}
  },
  {
   "cell_type": "code",
   "execution_count": 41,
   "source": [
    "x = tf.constant([1.3, 5.1, 2.2, 0.7, 1.1])\n",
    "\n",
    "tf.nn.softmax(x).numpy()"
   ],
   "outputs": [
    {
     "output_type": "execute_result",
     "data": {
      "text/plain": [
       "array([0.02019046, 0.90253764, 0.04966053, 0.01108076, 0.01653055],\n",
       "      dtype=float32)"
      ]
     },
     "metadata": {},
     "execution_count": 41
    }
   ],
   "metadata": {}
  },
  {
   "cell_type": "markdown",
   "source": [
    "* Để tính toán gradient, chúng ta cần làm vài bước sau:\n",
    "  * Định nghĩa một hàm `square` như sau, nó đơn giản là một hàm $y = x^2$. <br>\n",
    "    ![](./images/02.12.jpg)"
   ],
   "metadata": {}
  },
  {
   "cell_type": "code",
   "execution_count": 42,
   "source": [
    "def square(x):\n",
    "    return tf.multiply(x, x)"
   ],
   "outputs": [],
   "metadata": {}
  },
  {
   "cell_type": "markdown",
   "source": [
    "* ...\n",
    "  * Gradient của hàm `square()` có thể dc tính bằng cách sử dụng hàm `tf.GradientTape()` như sau:"
   ],
   "metadata": {}
  },
  {
   "cell_type": "code",
   "execution_count": 53,
   "source": [
    "with tf.GradientTape(persistent=True) as tape:\n",
    "    print(square(6.).numpy())"
   ],
   "outputs": [
    {
     "output_type": "stream",
     "name": "stdout",
     "text": [
      "36.0\n"
     ]
    }
   ],
   "metadata": {}
  }
 ],
 "metadata": {
  "orig_nbformat": 4,
  "language_info": {
   "name": "python",
   "version": "3.6.8",
   "mimetype": "text/x-python",
   "codemirror_mode": {
    "name": "ipython",
    "version": 3
   },
   "pygments_lexer": "ipython3",
   "nbconvert_exporter": "python",
   "file_extension": ".py"
  },
  "kernelspec": {
   "name": "python3",
   "display_name": "Python 3.6.8 64-bit ('python3.6': conda)"
  },
  "interpreter": {
   "hash": "2cade657992b47716e26d0a9b1443bfbca37741f9a577328e2d148cb3e78348d"
  }
 },
 "nbformat": 4,
 "nbformat_minor": 2
}