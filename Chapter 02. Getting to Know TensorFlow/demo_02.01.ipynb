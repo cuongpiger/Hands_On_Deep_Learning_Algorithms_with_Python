{
 "cells": [
  {
   "cell_type": "markdown",
   "source": [
    "# 5. Handwritten digit classification using TensorFlow [Phân loại chữ viết tay bằng TensorFlow]\n",
    "* Hãy xem qua bộ dữ liệu **MNIST**, bao gồm $55,000$ mẫu dữ liệu của các chữ số viết tay (từ 0 đến 9).\n",
    "* Trong phần này chúng ta sẽ sử dụng ANN để nhận dạng chữ viết tay, từ đây chúng ta có thể hiểu rõ hơn về TensorFlow và TensorBoard.\n",
    "## 5.1. Importing the required libraries [Import các thư viện cần thiết]"
   ],
   "metadata": {}
  },
  {
   "cell_type": "code",
   "execution_count": 1,
   "source": [
    "import warnings\n",
    "warnings.filterwarnings('ignore')\n",
    "\n",
    "import tensorflow as tf\n",
    "from tensorflow.examples.tutorials.mnist import input_data\n",
    "tf.logging.set_verbosity(tf.logging.ERROR)\n",
    "\n",
    "import matplotlib.pyplot as plt"
   ],
   "outputs": [],
   "metadata": {}
  },
  {
   "cell_type": "markdown",
   "source": [
    "## 5.2. Loading the dataset\n",
    "* Trước tiên cần tải tập dữ liệu MNIST vào folder `data/mnist/`.\n",
    "* `one_hot=True` tức ta sẽ áp dụng one hot encoding cho tập dữ liệu này."
   ],
   "metadata": {}
  },
  {
   "cell_type": "code",
   "execution_count": 2,
   "source": [
    "mnist = input_data.read_data_sets(\"data/mnist\", one_hot=True)"
   ],
   "outputs": [
    {
     "output_type": "stream",
     "name": "stdout",
     "text": [
      "Extracting data/mnist/train-images-idx3-ubyte.gz\n",
      "Extracting data/mnist/train-labels-idx1-ubyte.gz\n",
      "Extracting data/mnist/t10k-images-idx3-ubyte.gz\n",
      "Extracting data/mnist/t10k-labels-idx1-ubyte.gz\n"
     ]
    }
   ],
   "metadata": {}
  },
  {
   "cell_type": "code",
   "execution_count": 3,
   "source": [
    "print(\"Số ảnh có trong training set {}.\".format(mnist.train.images.shape))\n",
    "print(\"Số label trong tập training set {}.\".format(mnist.train.labels.shape))\n",
    "\n",
    "print(\"Số ảnh có trong test set {}.\".format(mnist.test.images.shape))\n",
    "print(\"Số label trong tập test set {}.\".format(mnist.test.labels.shape))"
   ],
   "outputs": [
    {
     "output_type": "stream",
     "name": "stdout",
     "text": [
      "Số ảnh có trong training set (55000, 784).\n",
      "Số label trong tập training set (55000, 10).\n",
      "Số ảnh có trong test set (10000, 784).\n",
      "Số label trong tập test set (10000, 10).\n"
     ]
    }
   ],
   "metadata": {}
  },
  {
   "cell_type": "markdown",
   "source": [
    "* Bây giờ chúng ta sẽ thử visualize một mẫu dữ liệu lên:"
   ],
   "metadata": {}
  },
  {
   "cell_type": "code",
   "execution_count": 4,
   "source": [
    "img1 = mnist.train.images[0].reshape(28, 28) # ví có 784 đặt trưng nên kích thước ảnh là 28x28\n",
    "plt.imshow(img1, cmap='Greys')"
   ],
   "outputs": [
    {
     "output_type": "execute_result",
     "data": {
      "text/plain": [
       "<matplotlib.image.AxesImage at 0x7fb0bee6a240>"
      ]
     },
     "metadata": {},
     "execution_count": 4
    },
    {
     "output_type": "display_data",
     "data": {
      "text/plain": [
       "<Figure size 432x288 with 1 Axes>"
      ],
      "image/svg+xml": "<?xml version=\"1.0\" encoding=\"utf-8\" standalone=\"no\"?>\n<!DOCTYPE svg PUBLIC \"-//W3C//DTD SVG 1.1//EN\"\n  \"http://www.w3.org/Graphics/SVG/1.1/DTD/svg11.dtd\">\n<!-- Created with matplotlib (https://matplotlib.org/) -->\n<svg height=\"248.518125pt\" version=\"1.1\" viewBox=\"0 0 251.565 248.518125\" width=\"251.565pt\" xmlns=\"http://www.w3.org/2000/svg\" xmlns:xlink=\"http://www.w3.org/1999/xlink\">\n <metadata>\n  <rdf:RDF xmlns:cc=\"http://creativecommons.org/ns#\" xmlns:dc=\"http://purl.org/dc/elements/1.1/\" xmlns:rdf=\"http://www.w3.org/1999/02/22-rdf-syntax-ns#\">\n   <cc:Work>\n    <dc:type rdf:resource=\"http://purl.org/dc/dcmitype/StillImage\"/>\n    <dc:date>2021-08-10T08:39:23.706800</dc:date>\n    <dc:format>image/svg+xml</dc:format>\n    <dc:creator>\n     <cc:Agent>\n      <dc:title>Matplotlib v3.3.4, https://matplotlib.org/</dc:title>\n     </cc:Agent>\n    </dc:creator>\n   </cc:Work>\n  </rdf:RDF>\n </metadata>\n <defs>\n  <style type=\"text/css\">*{stroke-linecap:butt;stroke-linejoin:round;}</style>\n </defs>\n <g id=\"figure_1\">\n  <g id=\"patch_1\">\n   <path d=\"M 0 248.518125 \nL 251.565 248.518125 \nL 251.565 0 \nL 0 0 \nz\n\" style=\"fill:none;\"/>\n  </g>\n  <g id=\"axes_1\">\n   <g id=\"patch_2\">\n    <path d=\"M 26.925 224.64 \nL 244.365 224.64 \nL 244.365 7.2 \nL 26.925 7.2 \nz\n\" style=\"fill:#ffffff;\"/>\n   </g>\n   <g clip-path=\"url(#p689212febd)\">\n    <image height=\"218\" id=\"image009fc9cae5\" transform=\"scale(1 -1)translate(0 -218)\" width=\"218\" x=\"26.925\" xlink:href=\"data:image/png;base64,\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\" y=\"-6.64\"/>\n   </g>\n   <g id=\"matplotlib.axis_1\">\n    <g id=\"xtick_1\">\n     <g id=\"line2d_1\">\n      <defs>\n       <path d=\"M 0 0 \nL 0 3.5 \n\" id=\"mc72cb723c9\" style=\"stroke:#000000;stroke-width:0.8;\"/>\n      </defs>\n      <g>\n       <use style=\"stroke:#000000;stroke-width:0.8;\" x=\"30.807857\" xlink:href=\"#mc72cb723c9\" y=\"224.64\"/>\n      </g>\n     </g>\n     <g id=\"text_1\">\n      <!-- 0 -->\n      <g transform=\"translate(27.626607 239.238437)scale(0.1 -0.1)\">\n       <defs>\n        <path d=\"M 31.78125 66.40625 \nQ 24.171875 66.40625 20.328125 58.90625 \nQ 16.5 51.421875 16.5 36.375 \nQ 16.5 21.390625 20.328125 13.890625 \nQ 24.171875 6.390625 31.78125 6.390625 \nQ 39.453125 6.390625 43.28125 13.890625 \nQ 47.125 21.390625 47.125 36.375 \nQ 47.125 51.421875 43.28125 58.90625 \nQ 39.453125 66.40625 31.78125 66.40625 \nz\nM 31.78125 74.21875 \nQ 44.046875 74.21875 50.515625 64.515625 \nQ 56.984375 54.828125 56.984375 36.375 \nQ 56.984375 17.96875 50.515625 8.265625 \nQ 44.046875 -1.421875 31.78125 -1.421875 \nQ 19.53125 -1.421875 13.0625 8.265625 \nQ 6.59375 17.96875 6.59375 36.375 \nQ 6.59375 54.828125 13.0625 64.515625 \nQ 19.53125 74.21875 31.78125 74.21875 \nz\n\" id=\"DejaVuSans-48\"/>\n       </defs>\n       <use xlink:href=\"#DejaVuSans-48\"/>\n      </g>\n     </g>\n    </g>\n    <g id=\"xtick_2\">\n     <g id=\"line2d_2\">\n      <g>\n       <use style=\"stroke:#000000;stroke-width:0.8;\" x=\"69.636429\" xlink:href=\"#mc72cb723c9\" y=\"224.64\"/>\n      </g>\n     </g>\n     <g id=\"text_2\">\n      <!-- 5 -->\n      <g transform=\"translate(66.455179 239.238437)scale(0.1 -0.1)\">\n       <defs>\n        <path d=\"M 10.796875 72.90625 \nL 49.515625 72.90625 \nL 49.515625 64.59375 \nL 19.828125 64.59375 \nL 19.828125 46.734375 \nQ 21.96875 47.46875 24.109375 47.828125 \nQ 26.265625 48.1875 28.421875 48.1875 \nQ 40.625 48.1875 47.75 41.5 \nQ 54.890625 34.8125 54.890625 23.390625 \nQ 54.890625 11.625 47.5625 5.09375 \nQ 40.234375 -1.421875 26.90625 -1.421875 \nQ 22.3125 -1.421875 17.546875 -0.640625 \nQ 12.796875 0.140625 7.71875 1.703125 \nL 7.71875 11.625 \nQ 12.109375 9.234375 16.796875 8.0625 \nQ 21.484375 6.890625 26.703125 6.890625 \nQ 35.15625 6.890625 40.078125 11.328125 \nQ 45.015625 15.765625 45.015625 23.390625 \nQ 45.015625 31 40.078125 35.4375 \nQ 35.15625 39.890625 26.703125 39.890625 \nQ 22.75 39.890625 18.8125 39.015625 \nQ 14.890625 38.140625 10.796875 36.28125 \nz\n\" id=\"DejaVuSans-53\"/>\n       </defs>\n       <use xlink:href=\"#DejaVuSans-53\"/>\n      </g>\n     </g>\n    </g>\n    <g id=\"xtick_3\">\n     <g id=\"line2d_3\">\n      <g>\n       <use style=\"stroke:#000000;stroke-width:0.8;\" x=\"108.465\" xlink:href=\"#mc72cb723c9\" y=\"224.64\"/>\n      </g>\n     </g>\n     <g id=\"text_3\">\n      <!-- 10 -->\n      <g transform=\"translate(102.1025 239.238437)scale(0.1 -0.1)\">\n       <defs>\n        <path d=\"M 12.40625 8.296875 \nL 28.515625 8.296875 \nL 28.515625 63.921875 \nL 10.984375 60.40625 \nL 10.984375 69.390625 \nL 28.421875 72.90625 \nL 38.28125 72.90625 \nL 38.28125 8.296875 \nL 54.390625 8.296875 \nL 54.390625 0 \nL 12.40625 0 \nz\n\" id=\"DejaVuSans-49\"/>\n       </defs>\n       <use xlink:href=\"#DejaVuSans-49\"/>\n       <use x=\"63.623047\" xlink:href=\"#DejaVuSans-48\"/>\n      </g>\n     </g>\n    </g>\n    <g id=\"xtick_4\">\n     <g id=\"line2d_4\">\n      <g>\n       <use style=\"stroke:#000000;stroke-width:0.8;\" x=\"147.293571\" xlink:href=\"#mc72cb723c9\" y=\"224.64\"/>\n      </g>\n     </g>\n     <g id=\"text_4\">\n      <!-- 15 -->\n      <g transform=\"translate(140.931071 239.238437)scale(0.1 -0.1)\">\n       <use xlink:href=\"#DejaVuSans-49\"/>\n       <use x=\"63.623047\" xlink:href=\"#DejaVuSans-53\"/>\n      </g>\n     </g>\n    </g>\n    <g id=\"xtick_5\">\n     <g id=\"line2d_5\">\n      <g>\n       <use style=\"stroke:#000000;stroke-width:0.8;\" x=\"186.122143\" xlink:href=\"#mc72cb723c9\" y=\"224.64\"/>\n      </g>\n     </g>\n     <g id=\"text_5\">\n      <!-- 20 -->\n      <g transform=\"translate(179.759643 239.238437)scale(0.1 -0.1)\">\n       <defs>\n        <path d=\"M 19.1875 8.296875 \nL 53.609375 8.296875 \nL 53.609375 0 \nL 7.328125 0 \nL 7.328125 8.296875 \nQ 12.9375 14.109375 22.625 23.890625 \nQ 32.328125 33.6875 34.8125 36.53125 \nQ 39.546875 41.84375 41.421875 45.53125 \nQ 43.3125 49.21875 43.3125 52.78125 \nQ 43.3125 58.59375 39.234375 62.25 \nQ 35.15625 65.921875 28.609375 65.921875 \nQ 23.96875 65.921875 18.8125 64.3125 \nQ 13.671875 62.703125 7.8125 59.421875 \nL 7.8125 69.390625 \nQ 13.765625 71.78125 18.9375 73 \nQ 24.125 74.21875 28.421875 74.21875 \nQ 39.75 74.21875 46.484375 68.546875 \nQ 53.21875 62.890625 53.21875 53.421875 \nQ 53.21875 48.921875 51.53125 44.890625 \nQ 49.859375 40.875 45.40625 35.40625 \nQ 44.1875 33.984375 37.640625 27.21875 \nQ 31.109375 20.453125 19.1875 8.296875 \nz\n\" id=\"DejaVuSans-50\"/>\n       </defs>\n       <use xlink:href=\"#DejaVuSans-50\"/>\n       <use x=\"63.623047\" xlink:href=\"#DejaVuSans-48\"/>\n      </g>\n     </g>\n    </g>\n    <g id=\"xtick_6\">\n     <g id=\"line2d_6\">\n      <g>\n       <use style=\"stroke:#000000;stroke-width:0.8;\" x=\"224.950714\" xlink:href=\"#mc72cb723c9\" y=\"224.64\"/>\n      </g>\n     </g>\n     <g id=\"text_6\">\n      <!-- 25 -->\n      <g transform=\"translate(218.588214 239.238437)scale(0.1 -0.1)\">\n       <use xlink:href=\"#DejaVuSans-50\"/>\n       <use x=\"63.623047\" xlink:href=\"#DejaVuSans-53\"/>\n      </g>\n     </g>\n    </g>\n   </g>\n   <g id=\"matplotlib.axis_2\">\n    <g id=\"ytick_1\">\n     <g id=\"line2d_7\">\n      <defs>\n       <path d=\"M 0 0 \nL -3.5 0 \n\" id=\"mb569312574\" style=\"stroke:#000000;stroke-width:0.8;\"/>\n      </defs>\n      <g>\n       <use style=\"stroke:#000000;stroke-width:0.8;\" x=\"26.925\" xlink:href=\"#mb569312574\" y=\"11.082857\"/>\n      </g>\n     </g>\n     <g id=\"text_7\">\n      <!-- 0 -->\n      <g transform=\"translate(13.5625 14.882076)scale(0.1 -0.1)\">\n       <use xlink:href=\"#DejaVuSans-48\"/>\n      </g>\n     </g>\n    </g>\n    <g id=\"ytick_2\">\n     <g id=\"line2d_8\">\n      <g>\n       <use style=\"stroke:#000000;stroke-width:0.8;\" x=\"26.925\" xlink:href=\"#mb569312574\" y=\"49.911429\"/>\n      </g>\n     </g>\n     <g id=\"text_8\">\n      <!-- 5 -->\n      <g transform=\"translate(13.5625 53.710647)scale(0.1 -0.1)\">\n       <use xlink:href=\"#DejaVuSans-53\"/>\n      </g>\n     </g>\n    </g>\n    <g id=\"ytick_3\">\n     <g id=\"line2d_9\">\n      <g>\n       <use style=\"stroke:#000000;stroke-width:0.8;\" x=\"26.925\" xlink:href=\"#mb569312574\" y=\"88.74\"/>\n      </g>\n     </g>\n     <g id=\"text_9\">\n      <!-- 10 -->\n      <g transform=\"translate(7.2 92.539219)scale(0.1 -0.1)\">\n       <use xlink:href=\"#DejaVuSans-49\"/>\n       <use x=\"63.623047\" xlink:href=\"#DejaVuSans-48\"/>\n      </g>\n     </g>\n    </g>\n    <g id=\"ytick_4\">\n     <g id=\"line2d_10\">\n      <g>\n       <use style=\"stroke:#000000;stroke-width:0.8;\" x=\"26.925\" xlink:href=\"#mb569312574\" y=\"127.568571\"/>\n      </g>\n     </g>\n     <g id=\"text_10\">\n      <!-- 15 -->\n      <g transform=\"translate(7.2 131.36779)scale(0.1 -0.1)\">\n       <use xlink:href=\"#DejaVuSans-49\"/>\n       <use x=\"63.623047\" xlink:href=\"#DejaVuSans-53\"/>\n      </g>\n     </g>\n    </g>\n    <g id=\"ytick_5\">\n     <g id=\"line2d_11\">\n      <g>\n       <use style=\"stroke:#000000;stroke-width:0.8;\" x=\"26.925\" xlink:href=\"#mb569312574\" y=\"166.397143\"/>\n      </g>\n     </g>\n     <g id=\"text_11\">\n      <!-- 20 -->\n      <g transform=\"translate(7.2 170.196362)scale(0.1 -0.1)\">\n       <use xlink:href=\"#DejaVuSans-50\"/>\n       <use x=\"63.623047\" xlink:href=\"#DejaVuSans-48\"/>\n      </g>\n     </g>\n    </g>\n    <g id=\"ytick_6\">\n     <g id=\"line2d_12\">\n      <g>\n       <use style=\"stroke:#000000;stroke-width:0.8;\" x=\"26.925\" xlink:href=\"#mb569312574\" y=\"205.225714\"/>\n      </g>\n     </g>\n     <g id=\"text_12\">\n      <!-- 25 -->\n      <g transform=\"translate(7.2 209.024933)scale(0.1 -0.1)\">\n       <use xlink:href=\"#DejaVuSans-50\"/>\n       <use x=\"63.623047\" xlink:href=\"#DejaVuSans-53\"/>\n      </g>\n     </g>\n    </g>\n   </g>\n   <g id=\"patch_3\">\n    <path d=\"M 26.925 224.64 \nL 26.925 7.2 \n\" style=\"fill:none;stroke:#000000;stroke-linecap:square;stroke-linejoin:miter;stroke-width:0.8;\"/>\n   </g>\n   <g id=\"patch_4\">\n    <path d=\"M 244.365 224.64 \nL 244.365 7.2 \n\" style=\"fill:none;stroke:#000000;stroke-linecap:square;stroke-linejoin:miter;stroke-width:0.8;\"/>\n   </g>\n   <g id=\"patch_5\">\n    <path d=\"M 26.925 224.64 \nL 244.365 224.64 \n\" style=\"fill:none;stroke:#000000;stroke-linecap:square;stroke-linejoin:miter;stroke-width:0.8;\"/>\n   </g>\n   <g id=\"patch_6\">\n    <path d=\"M 26.925 7.2 \nL 244.365 7.2 \n\" style=\"fill:none;stroke:#000000;stroke-linecap:square;stroke-linejoin:miter;stroke-width:0.8;\"/>\n   </g>\n  </g>\n </g>\n <defs>\n  <clipPath id=\"p689212febd\">\n   <rect height=\"217.44\" width=\"217.44\" x=\"26.925\" y=\"7.2\"/>\n  </clipPath>\n </defs>\n</svg>\n",
      "image/png": "[encoded data removed]"
     },
     "metadata": {
      "needs_background": "light"
     }
    }
   ],
   "metadata": {}
  },
  {
   "cell_type": "markdown",
   "source": [
    "## 5.3. Defining the number of neurons in each layer [Xác định số lượng neuron trong từng layer]\n",
    "* Chúng ta sẽ xây dựng một mạng neuron bao gồm 4 layer với 3 hidden layer và 1 output layer.\n",
    "* Vì kích thước của từng ảnh là $784$ nên chúng ta đặt `num_input = 784`. Và vì có 10 chữ số (từ 0 đến 9) nên chúng ta sẽ có 10 neuron cho output layer. Cuối cùng chúng ta sẽ xác định số neuron cho từng lớp cụ thể như sau:"
   ],
   "metadata": {}
  },
  {
   "cell_type": "code",
   "execution_count": 5,
   "source": [
    "# number of neurons in input layer\n",
    "num_input = 784\n",
    "\n",
    "# number of neurons in hidden layer 1\n",
    "num_hidden1 = 512\n",
    "\n",
    "# number of neurons in hidden layer 2\n",
    "num_hidden2 = 256\n",
    "\n",
    "# number of neurons in hidden layer 3\n",
    "num_hidden3 = 128\n",
    "\n",
    "# number of neurons in output layer\n",
    "num_output = 10"
   ],
   "outputs": [],
   "metadata": {}
  },
  {
   "cell_type": "markdown",
   "source": [
    "## 5.4. Defining placeholders [Xác định các placeholder]\n",
    "* Bây giờ chúng ta cần xác định các placeholder cho `input` và `output` như sau:"
   ],
   "metadata": {}
  },
  {
   "cell_type": "code",
   "execution_count": 6,
   "source": [
    "with tf.name_scope('input'):\n",
    "    X = tf.placeholder('float', [None, num_input])\n",
    "    \n",
    "with tf.name_scope('output'):\n",
    "    Y = tf.placeholder('float', [None, num_output])"
   ],
   "outputs": [],
   "metadata": {}
  },
  {
   "cell_type": "markdown",
   "source": [
    "* Vì network của chúng ta có 4 layer, vậy nên chúng ta cần tìm 4 `weight` và 4 `bias`. Chúng ta sẽ khởi tạo các `weight` theo phân phối chuẩn với standard deviation bằng $0.1$. Hãy nhớ rằng, số chiều của ma trận trọng số bằng với **số lượng neuron của layer trc** $\\times$ **số lượng neuron của layer hiện tại**.\n",
    "* Chúng ta sẽ định nghĩa tất cả các weight bên trong một dictionary như sau:"
   ],
   "metadata": {}
  },
  {
   "cell_type": "code",
   "execution_count": 7,
   "source": [
    "with tf.name_scope('weights'):\n",
    "    weights = {\n",
    "        'w1': tf.Variable(tf.truncated_normal([num_input, num_hidden1], stddev=0.1), name='weight_1'),\n",
    "        'w2': tf.Variable(tf.truncated_normal([num_hidden1, num_hidden2], stddev=0.1), name='weight_2'),\n",
    "        'w3': tf.Variable(tf.truncated_normal([num_hidden2, num_hidden3], stddev=0.1), name='weight_3'),\n",
    "        'out': tf.Variable(tf.truncated_normal([num_hidden3, num_output], stddev=0.1), name='weight_4')\n",
    "    }"
   ],
   "outputs": [],
   "metadata": {}
  },
  {
   "cell_type": "markdown",
   "source": [
    "* Shape của bias lúc này sẽ bằng số neuron của layer hiện tại. Chúng ta sẽ đặt giá trị bias bằng $0.1$ cho tất cả các layer."
   ],
   "metadata": {}
  },
  {
   "cell_type": "code",
   "execution_count": 8,
   "source": [
    "with tf.name_scope('biases'):\n",
    "    biases = {\n",
    "        'b1': tf.Variable(tf.constant(0.1, shape=[num_hidden1]), name='bias_1'),\n",
    "        'b2': tf.Variable(tf.constant(0.1, shape=[num_hidden2]), name='bias_2'),\n",
    "        'b3': tf.Variable(tf.constant(0.1, shape=[num_hidden3]), name='bias_3'),\n",
    "        'out': tf.Variable(tf.constant(0.1, shape=[num_output]), name='bias_4')\n",
    "    }"
   ],
   "outputs": [],
   "metadata": {}
  },
  {
   "cell_type": "markdown",
   "source": [
    "## 5.5. Forward propagation\n",
    "* Bây giờm chúng ta sẽ tiến hành forward propagation, chúng ta sẽ sử dụng **ReLU** activation cho tất cả các layer. Ở layer cuối, chúng ta sẽ áp dụng **Sigmoid** activation."
   ],
   "metadata": {}
  },
  {
   "cell_type": "code",
   "execution_count": 9,
   "source": [
    "with tf.name_scope('Model'):\n",
    "    with tf.name_scope('layer1'):\n",
    "        layer_1 = tf.nn.relu(tf.add(tf.matmul(X, weights['w1']), biases['b1']))\n",
    "        \n",
    "    with tf.name_scope('layer2'):\n",
    "        layer_2 = tf.nn.relu(tf.add(tf.matmul(layer_1, weights['w2']), biases['b2']))\n",
    "        \n",
    "    with tf.name_scope('layer3'):\n",
    "        layer_3 = tf.nn.relu(tf.add(tf.matmul(layer_2, weights['w3']), biases['b3']))\n",
    "        \n",
    "    with tf.name_scope('output_layer'):\n",
    "        y_hat = tf.nn.sigmoid(tf.matmul(layer_3, weights['out']) + biases['out'])"
   ],
   "outputs": [],
   "metadata": {}
  },
  {
   "cell_type": "markdown",
   "source": [
    "## 5.6. Computing loss and backpropagation\n",
    "* Bây giờ chúng ta sẽ định nghĩa **loss function**. Chúng ta sẽ sử dụng **softmax cross-entropy** làm hàm mất mát của chúng ta. TensorFlow cung cấp `tf.nn.softmax_cross_entropy_with_logits()` để tính softmax cross-entropy loss. Nó nhận vào hai tham số là `logits` - chỉ định `logits` mà chúng ta sẽ dự đoán trong network, chẳng hạn `y_hat`; `labels` - tham số dùng để chỉ định đâu là **actual labels**, ví dụ `Y`.\n",
    "* Chúng ta sẽ lấy giá trị mean của hàm mất mát bằng `tf.reduce_mean()`."
   ],
   "metadata": {}
  },
  {
   "cell_type": "code",
   "execution_count": 10,
   "source": [
    "with tf.name_scope('Loss'):\n",
    "    loss = tf.reduce_mean(tf.nn.softmax_cross_entropy_with_logits(logits=y_hat, labels=Y))"
   ],
   "outputs": [],
   "metadata": {}
  },
  {
   "cell_type": "markdown",
   "source": [
    "* Bây giờ chúng ta sẽ tiến hành tối thiểu hóa hàm mất mát bằng cách sử dụng backpropagation. Chúng ta sẽ ko cần phải tính đạo hàm như những gì mà chúng ta đã làm ở chapter 1. Thay vào đó chúng ta sẽ sử dụng trình tối ưu dc xây dựng sẵn bởi TensorFlow.\n",
    "* Trong bài toán này chúng ta sẽ sử dụng Adam optimizer, đây là một biến thể của Gradient Descent mà chúng ta đã tìm hiểu ở chương 1. Chúng ta sẽ tìm hiểu nó kĩ hơn vào chương 3.\n",
    "* Bây giờ chúng ta sẽ áp dụng Adam optimizer làm thuật toán chính trong backpropagation của chúng ta."
   ],
   "metadata": {}
  },
  {
   "cell_type": "code",
   "execution_count": 11,
   "source": [
    "learning_rate = 1e-4\n",
    "optimizer = tf.train.AdamOptimizer(learning_rate).minimize(loss)"
   ],
   "outputs": [],
   "metadata": {}
  },
  {
   "cell_type": "markdown",
   "source": [
    "## 5.7. Computing accuracy\n",
    "* Chúng ta có thể tính toán độ chính xác của model theo các bước sau:\n",
    "  * Tham số `y_hat` biểu thị xác suất dự đoán cho từng class trong model của chúng ta. Bởi vì chùng ta có 10 class nên chúng ta có 10 giá trị xác suất. Nếu xác suất cao hơn ở số 7, thì khả năng cao model của chúng ta dữ đoán hình ảnh đầu vào là số 7. Hàm `tf.argmax(y_hat, 1)` trả về index của giá trị lớn nhất.\n",
    "  * `Y` lúc này là actual label, và vì chúng ta áp dụng one hot nên lúc này nó là một mảng chiều phần từ với các phần tử đều là 0 riêng duy nhất actual label là 1.\n",
    "  * Hàm `tf.equal(<x>, <y>)` nhận vào hai đối số là `x` và `y` và trả về giá trị boolean liệu `x == y` hay ko. Vậy nên trong mã dưới đây của chúng ta như sau:\n",
    "    ```python\n",
    "    correct_pred = tf.equal(predicted_digit, actual_digit)\n",
    "    ```\n",
    "    * Nó sẽ trả về `True` nếu như `predicted_digit` và `actual_digit` giống nhau và ngược lại là `False`.\n",
    "  * Tiếp theo chúng ta cần convert giá trị boolean trong `correct_pred` thành giá trị có dtype là float, lúc này ta dùng hàm:\n",
    "    ```python\n",
    "    tf.cast(correct_pred, tf.float32)\n",
    "    ```\n",
    "    * Sau khi chuyển đổi nó thành dtype là float, chúng ta sẽ tính trung bình bằng hàm `tf.reduce_mean()`.\n",
    "  * Tóm lại:\n",
    "    ```python\n",
    "    tf.reduce_mean(tf.cast(correct_pred, tf.float32))\n",
    "    ```\n",
    "    sẽ cho chúng ta giá trị trung bình của các mẫu dc dự đoán đúng."
   ],
   "metadata": {}
  },
  {
   "cell_type": "code",
   "execution_count": 12,
   "source": [
    "with tf.name_scope(\"Accuracy\"):\n",
    "    predicted_digit = tf.argmax(y_hat, 1)\n",
    "    actual_digit = tf.argmax(Y, 1)\n",
    "    correct_pred = tf.equal(predicted_digit, actual_digit)\n",
    "    accuracy = tf.reduce_mean(tf.cast(correct_pred, tf.float32))"
   ],
   "outputs": [],
   "metadata": {}
  },
  {
   "cell_type": "markdown",
   "source": [
    "## 5.8. Creating Summary\n",
    "* Chúng ta có thể visualize loss function và accuracy của model thay đổi như thế nào qua từng vòng lặp trong TensorBoard. Chúng ta sẽ sử dụng hàm `tf.summary()` để lấy dc tóm tắt của biến. Bởi vì hàm loss và accuracy là các **scalar variable** [biến vô hướng], chúng ta sẽ sử dụng `tf.summary.scalar()` như dòng code dưới đây:"
   ],
   "metadata": {}
  },
  {
   "cell_type": "code",
   "execution_count": 13,
   "source": [
    "tf.summary.scalar(\"Accuracy\", accuracy)\n",
    "tf.summary.scalar(\"Loss\", loss)"
   ],
   "outputs": [
    {
     "output_type": "execute_result",
     "data": {
      "text/plain": [
       "<tf.Tensor 'Loss_1:0' shape=() dtype=string>"
      ]
     },
     "metadata": {},
     "execution_count": 13
    }
   ],
   "metadata": {}
  },
  {
   "cell_type": "markdown",
   "source": [
    "* Tiếp theo, chúng ta sẽ gộp nhất tất các các summary mà chúng ta đã sử dụng `tf.summary.merge_all()`. Chúng ta làm điều này bởi vì chúng ta có nhiều giá tri summary vậy nên chúng ta cần gộp nó lại để chạy trong một lần duy nhất chứ ko phải nhiều lần trong một session."
   ],
   "metadata": {}
  },
  {
   "cell_type": "code",
   "execution_count": 14,
   "source": [
    "merge_summary = tf.summary.merge_all()"
   ],
   "outputs": [],
   "metadata": {}
  },
  {
   "cell_type": "markdown",
   "source": [
    "## 5.10. Training the model\n",
    "* Bây giờ chúng ta sẽ train model của chúng ta. Trc tiên chúng ta cần khởi tạo tao ra biến `global_variables_initializer()`."
   ],
   "metadata": {}
  },
  {
   "cell_type": "code",
   "execution_count": 16,
   "source": [
    "init = tf.global_variables_initializer()"
   ],
   "outputs": [],
   "metadata": {}
  },
  {
   "cell_type": "markdown",
   "source": [
    "* Bây giờ chúng ta cần xác định batch size (số quan sát của training data), số lượng iterations và learning rate, theo dõi dưới đây:"
   ],
   "metadata": {}
  },
  {
   "cell_type": "code",
   "execution_count": null,
   "source": [
    "learning_rate = 1e-4\n",
    "num_iterations = 1000\n",
    "batch_size = 128"
   ],
   "outputs": [],
   "metadata": {}
  }
 ],
 "metadata": {
  "orig_nbformat": 4,
  "language_info": {
   "name": "python",
   "version": "3.6.8",
   "mimetype": "text/x-python",
   "codemirror_mode": {
    "name": "ipython",
    "version": 3
   },
   "pygments_lexer": "ipython3",
   "nbconvert_exporter": "python",
   "file_extension": ".py"
  },
  "kernelspec": {
   "name": "python3",
   "display_name": "Python 3.6.8 64-bit ('python3.6': conda)"
  },
  "interpreter": {
   "hash": "2cade657992b47716e26d0a9b1443bfbca37741f9a577328e2d148cb3e78348d"
  }
 },
 "nbformat": 4,
 "nbformat_minor": 2
}