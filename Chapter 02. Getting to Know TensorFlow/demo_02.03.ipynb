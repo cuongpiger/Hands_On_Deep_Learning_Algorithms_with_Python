{
 "cells": [
  {
   "cell_type": "markdown",
   "source": [
    "# 8. TensorFlow 2.0 and Keras\n",
    "* TensorFlow 2.0 có một số cải tiến thú vị, nó để eager execution mode làm default và sử dụng Keras làm API chính để xây dựng các model deep learning. Nó cũng tương thích ngược với các phiên bản TensorFlow 1.x.\n",
    "  \n",
    "## 8.1. Bonjour Keras \n",
    "* Keras là một thư viện dành cho deep learning rất phổ biến khác và dc phát triển tại Google. Nó nổi tiếng với việc xây dựng các model trở thành một công việc đơn giản.\n",
    "* Để build một model trong Keras bao gồm bốn bước quan trọng:\n",
    "  * Defining the model\n",
    "  * Compiling the model\n",
    "  * Fitting the model\n",
    "  * Evaluating the model\n",
    "\n",
    "### 8.1.1. Defining the model\n",
    "* Keras cung cấp hai API khác nhau để define model:\n",
    "  * The sequential API\n",
    "  * The functional API\n",
    "\n",
    "#### 8.1.1.1. Defining a sequential model\n",
    "* Trong sequential model, chúng ta sẽ xếp chồng các layer lên nhau."
   ],
   "metadata": {}
  },
  {
   "cell_type": "code",
   "execution_count": 9,
   "source": [
    "import tensorflow as tf\n",
    "import numpy as np\n",
    "import matplotlib.pyplot as plt\n",
    "from tensorflow import keras\n",
    "from tensorflow.keras.models import Sequential\n",
    "from tensorflow.keras.layers import Dense"
   ],
   "outputs": [],
   "metadata": {}
  },
  {
   "cell_type": "markdown",
   "source": [
    "* Trước tiên, chúng ta cần xác định một `Sequential()` model như sau:"
   ],
   "metadata": {}
  },
  {
   "cell_type": "code",
   "execution_count": 4,
   "source": [
    "model = Sequential()"
   ],
   "outputs": [],
   "metadata": {}
  },
  {
   "cell_type": "markdown",
   "source": [
    "* Hãy định nghĩa cho layer đầu tiên như sau:"
   ],
   "metadata": {}
  },
  {
   "cell_type": "code",
   "execution_count": 5,
   "source": [
    "model.add(Dense(13, input_dim=7, activation='relu'))"
   ],
   "outputs": [],
   "metadata": {}
  },
  {
   "cell_type": "markdown",
   "source": [
    "* Trong đây, `13` là số neuron, `Dense` ngụ ý rằng một layer đã dc kết nối, `input_dim` có nghĩa là số chiều của input, và `activation` dùng để chỉ định cho activation function mà chúng ta cần sử dụng. Và bây giờ chúng ta cứ việc xếp chồng các layer lên nhau.\n",
    "* Tiếp theo ta sẽ định nghĩa một layer tiếp theo."
   ],
   "metadata": {}
  },
  {
   "cell_type": "code",
   "execution_count": 6,
   "source": [
    "model.add(Dense(7, activation='relu'))"
   ],
   "outputs": [],
   "metadata": {}
  },
  {
   "cell_type": "markdown",
   "source": [
    "* Bây giờ chúng ta sẽ định nghĩa cho output layer với sigmoid activation function."
   ],
   "metadata": {}
  },
  {
   "cell_type": "code",
   "execution_count": 7,
   "source": [
    "model.add(Dense(1, activation='sigmoid'))"
   ],
   "outputs": [],
   "metadata": {}
  },
  {
   "cell_type": "markdown",
   "source": [
    "* Đây là toàn bộ quá trình của chúng ta:\n",
    "  ```python\n",
    "  model = Sequential()\n",
    "  model.add(Dense(13, input_dim=7, activation='relu'))\n",
    "  model.add(Dense(7, activation='relu'))\n",
    "  model.add(Dense(1, activation='sigmoid'))\n",
    "  ```"
   ],
   "metadata": {}
  },
  {
   "cell_type": "markdown",
   "source": [
    "#### 8.1.1.2. Defining a functional model\n",
    "* Functional model cung cấp tính linh hoạt hơn so với Sequential model. Ví dụ, trong functional model chúng ta có thể kết nối bất kì layer nào với một layer khác, trong khi ở sequential model thì các layer phải dc xếp chồng lên nhau.\n",
    "* Functional model rất hữu ích khi ta xây dựng các model phức tạp, với nhiều giá trị đầu vào, nhiều giá trị đầu ra và nhiều shared layer. Bây giờ chúng ta sẽ xây dựng một functional model.\n",
    "* Trước tiên chúng ta cần khai báo `Input()` object, nó đơn thuần là số chiều của data input"
   ],
   "metadata": {}
  },
  {
   "cell_type": "code",
   "execution_count": 10,
   "source": [
    "input = keras.Input(shape=(2,))"
   ],
   "outputs": [],
   "metadata": {}
  },
  {
   "cell_type": "markdown",
   "source": [
    "* Bây giờ chúng ta sẽ định nghĩa layer đầu tiên của chúng ta bao gồm 10 neuron và sử dụng relu activation function."
   ],
   "metadata": {}
  },
  {
   "cell_type": "code",
   "execution_count": 11,
   "source": [
    "layer1 = Dense(10, activation='relu')"
   ],
   "outputs": [],
   "metadata": {}
  },
  {
   "cell_type": "markdown",
   "source": [
    "* ...\n",
    "  * Chúng ta đã định nghĩa `layer1`, nhưng dữ liệu input cho layer này lấy vào từ đâu? Để chỉ định input cho layer, ta chỉnh code trên lại như code dưới đây:"
   ],
   "metadata": {}
  },
  {
   "cell_type": "code",
   "execution_count": 12,
   "source": [
    "layer1 = Dense(10, activation='relu')(input)"
   ],
   "outputs": [],
   "metadata": {}
  },
  {
   "cell_type": "markdown",
   "source": [
    "* Bây giờ chúng ta sẽ định nghịa cho layer tiếp theo là `layer2` bao gồm 10 neuron và cũng sử dụng hàm relu activation function. Và vì `input` đi vào `layer1` trc sau đó mới đi vào `layer2` nên ta phải thực hiện như sau:"
   ],
   "metadata": {}
  },
  {
   "cell_type": "code",
   "execution_count": 13,
   "source": [
    "layer2 = Dense(10, activation='relu')(layer1)"
   ],
   "outputs": [],
   "metadata": {}
  },
  {
   "cell_type": "markdown",
   "source": [
    "* Cuối cùng chúng ta sẽ định nghĩa cho `output` layer và sử dụng sigmoid activation function như sau:"
   ],
   "metadata": {}
  },
  {
   "cell_type": "code",
   "execution_count": 14,
   "source": [
    "output = Dense(1, activation='sigmoid')(layer2)"
   ],
   "outputs": [],
   "metadata": {}
  },
  {
   "cell_type": "markdown",
   "source": [
    "* Sau khi chúng ta đã xác định tất cả các layer, chúng ta cần định nghĩa một model bằng cách sử dụng class `Model`, ở đây chúng ta cần chỉ định cho hai tham số là `inputs` và `outputs` như sau:"
   ],
   "metadata": {}
  },
  {
   "cell_type": "code",
   "execution_count": 15,
   "source": [
    "model = keras.Model(inputs=input, outputs=output)"
   ],
   "outputs": [],
   "metadata": {}
  },
  {
   "cell_type": "markdown",
   "source": [
    "* Code hoàn chỉnh của functional model như sau:\n",
    "  ```python\n",
    "  input = Input(shape=(2,))\n",
    "  layer1 = Dense(10, activation='relu')(input)\n",
    "  layer2 = Dense(10, activation='relu')(layer1)\n",
    "  output = Dense(1, activation='sigmoid')(layer2)\n",
    "  model = Model(inputs=input, outputs=output)\n",
    "  ```"
   ],
   "metadata": {}
  },
  {
   "cell_type": "markdown",
   "source": [
    "### 8.1.2. Compiling the model\n",
    "* Vừa rồi chúng ta đã xác định model, bước tiếp theo chúng ta cần biên dịch nó. Trong giai đoạn này, chúng ta sẽ thiết lập model sẽ học như thế nào. Chúng ta cần xác định ba tham số khi biên dịch model.\n",
    "  * Tham số `optimizer`: dùng để định nghĩa thuật toán optimize cho model, ví dụ gradient descent.\n",
    "  * Tham số `loss`: đầy là hàm mất mất mà chúng ta đang cố gắng minimize nó xuống, ví dụ mean squared error hoặc cross-entropy.\n",
    "  * Tham số `metric`: đây là số liệu mà chúng ta muốn đánh giá hiệu suất của model, ví dụ accuracy. Chúng ta có thể chỉ định nhiều hơn một metric cho tham số này.\n",
    "* Cuối cùng, để biên dịch model, hãy thử chạy code dưới đây: "
   ],
   "metadata": {}
  },
  {
   "cell_type": "code",
   "execution_count": 16,
   "source": [
    "model.compile(loss='binary_crossentropy', optimizer='sgd', metrics=['accuracy'])"
   ],
   "outputs": [],
   "metadata": {}
  },
  {
   "cell_type": "markdown",
   "source": [
    "### 8.1.3. Training the model\n",
    "* Sau khi biên dịch model, bây giờ chúng ta cần training model. Training model có thể được thực hiện thông qua hàm `fit`. Chúng ta cần chỉ định các features `x` và labels `y`, số lượng `epochs` mà chúng ta cần train và `batch_size`, như sau:\n",
    "  ```python\n",
    "  model.fit(x=data, y=labels, epochs=100, batch_size=10)\n",
    "  ```"
   ],
   "metadata": {}
  },
  {
   "cell_type": "markdown",
   "source": [
    "### 8.1.4. Evaluating the model\n",
    "* Sau khi training model, chúng ta cần đánh giá hiệu suất của model trên tập test data như sau:\n",
    "  ```python\n",
    "  model.evaluate(x=data_test, y=labels_test)\n",
    "  ```\n",
    "* Chúng ta cũng có thể đánh giá model trên tập train data, điều này giúp cho chúng ta hiểu rõ hơn về training accuracy:\n",
    "  ```python\n",
    "  model.evaluate(x=data, y=labels)\n",
    "  ```"
   ],
   "metadata": {}
  },
  {
   "cell_type": "markdown",
   "source": [
    "## 8.2. MNIST digit classification using TensorFlow 2.0\n",
    "* Bây giờ, chúng ta đã có thể xây dựng bài toán phân loại chữ số viết tay MNIST bằng TensorFlow 2.0, nó chỉ có một vài dòng code khác biệt so với TensorFlow version 1.x.\n",
    "* Bây giờ hãy load dataset MINIST lên:"
   ],
   "metadata": {}
  },
  {
   "cell_type": "code",
   "execution_count": 18,
   "source": [
    "mnist = keras.datasets.mnist"
   ],
   "outputs": [],
   "metadata": {}
  },
  {
   "cell_type": "markdown",
   "source": [
    "* Tạo ra tập train và test data:"
   ],
   "metadata": {}
  },
  {
   "cell_type": "code",
   "execution_count": 20,
   "source": [
    "(x_train, y_train), (x_test, y_test) = mnist.load_data()"
   ],
   "outputs": [],
   "metadata": {}
  },
  {
   "cell_type": "markdown",
   "source": [
    "* Normalize (chuẩn hóa) dữ liệu bằng cách chia cho giá trị lớn nhất, vì đây là ảnh grayscale nên giá trị lớn nhất là $255$."
   ],
   "metadata": {}
  },
  {
   "cell_type": "code",
   "execution_count": 21,
   "source": [
    "x_train, x_test = tf.cast(x_train/255., tf.float32), tf.cast(x_test/255., tf.float32)\n",
    "y_train, y_test = tf.cast(y_train, tf.int64), tf.cast(y_test, tf.int64)"
   ],
   "outputs": [],
   "metadata": {}
  },
  {
   "cell_type": "markdown",
   "source": [
    "* Định nghĩa sequential model như sau:"
   ],
   "metadata": {}
  },
  {
   "cell_type": "code",
   "execution_count": 22,
   "source": [
    "model = Sequential()"
   ],
   "outputs": [],
   "metadata": {}
  },
  {
   "cell_type": "markdown",
   "source": [
    "* Add các layer vào model, chúng ta sẽ sử dụng ba layer và sử dụng relu activation function ở tất cả các layer và riêng layer cuối ta sử dụng softmax activation function."
   ],
   "metadata": {}
  },
  {
   "cell_type": "code",
   "execution_count": 23,
   "source": [
    "model.add(keras.layers.Flatten())\n",
    "model.add(Dense(256, activation='relu'))\n",
    "model.add(Dense(128, activation='relu'))\n",
    "model.add(Dense(10, activation='softmax'))"
   ],
   "outputs": [],
   "metadata": {}
  },
  {
   "cell_type": "markdown",
   "source": [
    "* Bây giờ biên dịch model như sau:"
   ],
   "metadata": {}
  },
  {
   "cell_type": "code",
   "execution_count": 24,
   "source": [
    "model.compile(optimizer='sgd', loss='sparse_categorical_crossentropy', metrics=['accuracy'])"
   ],
   "outputs": [],
   "metadata": {}
  },
  {
   "cell_type": "markdown",
   "source": [
    "* Training model"
   ],
   "metadata": {}
  },
  {
   "cell_type": "code",
   "execution_count": 25,
   "source": [
    "model.fit(x_train, y_train, batch_size=32, epochs=10)"
   ],
   "outputs": [
    {
     "output_type": "stream",
     "name": "stdout",
     "text": [
      "Epoch 1/10\n",
      "60000/60000 [==============================] - 6s 103us/sample - loss: 1.7388 - accuracy: 0.5596\n",
      "Epoch 2/10\n",
      "60000/60000 [==============================] - 5s 76us/sample - loss: 0.8827 - accuracy: 0.8055\n",
      "Epoch 3/10\n",
      "60000/60000 [==============================] - 5s 78us/sample - loss: 0.5972 - accuracy: 0.8546\n",
      "Epoch 4/10\n",
      "60000/60000 [==============================] - 5s 78us/sample - loss: 0.4864 - accuracy: 0.8752\n",
      "Epoch 5/10\n",
      "60000/60000 [==============================] - 5s 85us/sample - loss: 0.4284 - accuracy: 0.8864\n",
      "Epoch 6/10\n",
      "60000/60000 [==============================] - 6s 93us/sample - loss: 0.3924 - accuracy: 0.8936\n",
      "Epoch 7/10\n",
      "60000/60000 [==============================] - 5s 90us/sample - loss: 0.3671 - accuracy: 0.8999\n",
      "Epoch 8/10\n",
      "60000/60000 [==============================] - 5s 82us/sample - loss: 0.3483 - accuracy: 0.9042\n",
      "Epoch 9/10\n",
      "60000/60000 [==============================] - 5s 87us/sample - loss: 0.3332 - accuracy: 0.9076\n",
      "Epoch 10/10\n",
      "60000/60000 [==============================] - 5s 90us/sample - loss: 0.3207 - accuracy: 0.9107\n"
     ]
    },
    {
     "output_type": "execute_result",
     "data": {
      "text/plain": [
       "<tensorflow.python.keras.callbacks.History at 0x7f9be69421d0>"
      ]
     },
     "metadata": {},
     "execution_count": 25
    }
   ],
   "metadata": {}
  },
  {
   "cell_type": "markdown",
   "source": [
    "* Đánh giá model"
   ],
   "metadata": {}
  },
  {
   "cell_type": "code",
   "execution_count": 26,
   "source": [
    "model.evaluate(x_test, y_test)"
   ],
   "outputs": [
    {
     "output_type": "stream",
     "name": "stdout",
     "text": [
      "10000/10000 [==============================] - 1s 61us/sample - loss: 0.3023 - accuracy: 0.9151\n"
     ]
    },
    {
     "output_type": "execute_result",
     "data": {
      "text/plain": [
       "[0.302305895537138, 0.9151]"
      ]
     },
     "metadata": {},
     "execution_count": 26
    }
   ],
   "metadata": {}
  },
  {
   "cell_type": "code",
   "execution_count": null,
   "source": [],
   "outputs": [],
   "metadata": {}
  }
 ],
 "metadata": {
  "orig_nbformat": 4,
  "language_info": {
   "name": "python",
   "version": "3.6.8",
   "mimetype": "text/x-python",
   "codemirror_mode": {
    "name": "ipython",
    "version": 3
   },
   "pygments_lexer": "ipython3",
   "nbconvert_exporter": "python",
   "file_extension": ".py"
  },
  "kernelspec": {
   "name": "python3",
   "display_name": "Python 3.6.8 64-bit ('python3.6': conda)"
  },
  "interpreter": {
   "hash": "2cade657992b47716e26d0a9b1443bfbca37741f9a577328e2d148cb3e78348d"
  }
 },
 "nbformat": 4,
 "nbformat_minor": 2
}