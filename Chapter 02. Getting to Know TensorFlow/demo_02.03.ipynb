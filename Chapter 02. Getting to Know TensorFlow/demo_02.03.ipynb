{
 "cells": [
  {
   "cell_type": "markdown",
   "source": [
    "# 8. TensorFlow 2.0 and Keras\n",
    "* TensorFlow 2.0 có một số cải tiến thú vị, nó để eager execution mode làm default và sử dụng Keras làm API chính để xây dựng các model deep learning. Nó cũng tương thích ngược với các phiên bản TensorFlow 1.x.\n",
    "  \n",
    "## 8.1. Bonjour Keras \n",
    "* Keras là một thư viện dành cho deep learning rất phổ biến khác và dc phát triển tại Google. Nó nổi tiếng với việc xây dựng các model trở thành một công việc đơn giản.\n",
    "* Để build một model trong Keras bao gồm bốn bước quan trọng:\n",
    "  * Defining the model\n",
    "  * Compiling the model\n",
    "  * Fitting the model\n",
    "  * Evaluating the model\n",
    "\n",
    "### 8.1.1. Defining the model\n",
    "* Keras cung cấp hai API khác nhau để define model:\n",
    "  * The sequential API\n",
    "  * The functional API\n",
    "\n",
    "#### 8.1.1.1. Defining a sequential model\n",
    "* Trong sequential model, chúng ta sẽ xếp chồng các layer lên nhau."
   ],
   "metadata": {}
  },
  {
   "cell_type": "code",
   "execution_count": 8,
   "source": [
    "import tensorflow as tf\n",
    "import numpy as np\n",
    "import matplotlib.pyplot as plt\n",
    "from tensorflow.keras.models import Sequential\n",
    "from tensorflow.keras.layers import Dense"
   ],
   "outputs": [],
   "metadata": {}
  },
  {
   "cell_type": "markdown",
   "source": [
    "* Trước tiên, chúng ta cần xác định một `Sequential()` model như sau:"
   ],
   "metadata": {}
  },
  {
   "cell_type": "code",
   "execution_count": 9,
   "source": [
    "model = Sequential()"
   ],
   "outputs": [],
   "metadata": {}
  },
  {
   "cell_type": "code",
   "execution_count": null,
   "source": [],
   "outputs": [],
   "metadata": {}
  }
 ],
 "metadata": {
  "orig_nbformat": 4,
  "language_info": {
   "name": "python",
   "version": "3.6.8",
   "mimetype": "text/x-python",
   "codemirror_mode": {
    "name": "ipython",
    "version": 3
   },
   "pygments_lexer": "ipython3",
   "nbconvert_exporter": "python",
   "file_extension": ".py"
  },
  "kernelspec": {
   "name": "python3",
   "display_name": "Python 3.6.8 64-bit ('python3.6': conda)"
  },
  "interpreter": {
   "hash": "2cade657992b47716e26d0a9b1443bfbca37741f9a577328e2d148cb3e78348d"
  }
 },
 "nbformat": 4,
 "nbformat_minor": 2
}