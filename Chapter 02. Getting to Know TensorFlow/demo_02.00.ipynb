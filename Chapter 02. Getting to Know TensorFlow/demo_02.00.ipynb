{
 "cells": [
  {
   "cell_type": "markdown",
   "source": [
    "# 1. What is TensorFlow? [TensorFlow là gì?]\n",
    "###### Cài đặt TensorFlow\n",
    "* Trong chương này sẽ sử dụng **TensorFlow** version `1.13.1`, yêu cầu với version này là **Python** chạy version `3.6.8`.\n",
    "* Cài đặt Python bản `3.6.8` trên Anaconda và nhập lệnh sau:\n",
    "  ```\n",
    "  # terminal\n",
    "  conda create -n python3.6 python=3.6.8 anaconda\n",
    "  \n",
    "  # activate python3.6 env\n",
    "  conda activate python3.6\n",
    "\n",
    "  # install pip package\n",
    "  conda install pip\n",
    "\n",
    "  # install tensorflow package\n",
    "  pip install tensorflow==1.13.1\n",
    "  ```\n",
    "* Có thể xem chi tiết hơn [tại đây](https://uoa-eresearch.github.io/eresearch-cookbook/recipe/2014/11/20/conda/)."
   ],
   "metadata": {}
  },
  {
   "cell_type": "markdown",
   "source": [
    "###### Vài dòng code với TensorFlow\n",
    "* Kiểm tra `tensorflow` có dc cài đặt thành công hay ko."
   ],
   "metadata": {}
  },
  {
   "cell_type": "code",
   "execution_count": 1,
   "source": [
    "import tensorflow as tf\n",
    "\n",
    "hello = tf.constant(\"Hello TensorFlow!\")\n",
    "sess = tf.Session()\n",
    "\n",
    "print(sess.run(hello))"
   ],
   "outputs": [
    {
     "output_type": "stream",
     "name": "stderr",
     "text": [
      "/home/manhcuong/anaconda3/envs/python3.6/lib/python3.6/site-packages/tensorflow/python/framework/dtypes.py:526: FutureWarning: Passing (type, 1) or '1type' as a synonym of type is deprecated; in a future version of numpy, it will be understood as (type, (1,)) / '(1,)type'.\n",
      "  _np_qint8 = np.dtype([(\"qint8\", np.int8, 1)])\n",
      "/home/manhcuong/anaconda3/envs/python3.6/lib/python3.6/site-packages/tensorflow/python/framework/dtypes.py:527: FutureWarning: Passing (type, 1) or '1type' as a synonym of type is deprecated; in a future version of numpy, it will be understood as (type, (1,)) / '(1,)type'.\n",
      "  _np_quint8 = np.dtype([(\"quint8\", np.uint8, 1)])\n",
      "/home/manhcuong/anaconda3/envs/python3.6/lib/python3.6/site-packages/tensorflow/python/framework/dtypes.py:528: FutureWarning: Passing (type, 1) or '1type' as a synonym of type is deprecated; in a future version of numpy, it will be understood as (type, (1,)) / '(1,)type'.\n",
      "  _np_qint16 = np.dtype([(\"qint16\", np.int16, 1)])\n",
      "/home/manhcuong/anaconda3/envs/python3.6/lib/python3.6/site-packages/tensorflow/python/framework/dtypes.py:529: FutureWarning: Passing (type, 1) or '1type' as a synonym of type is deprecated; in a future version of numpy, it will be understood as (type, (1,)) / '(1,)type'.\n",
      "  _np_quint16 = np.dtype([(\"quint16\", np.uint16, 1)])\n",
      "/home/manhcuong/anaconda3/envs/python3.6/lib/python3.6/site-packages/tensorflow/python/framework/dtypes.py:530: FutureWarning: Passing (type, 1) or '1type' as a synonym of type is deprecated; in a future version of numpy, it will be understood as (type, (1,)) / '(1,)type'.\n",
      "  _np_qint32 = np.dtype([(\"qint32\", np.int32, 1)])\n",
      "/home/manhcuong/anaconda3/envs/python3.6/lib/python3.6/site-packages/tensorflow/python/framework/dtypes.py:535: FutureWarning: Passing (type, 1) or '1type' as a synonym of type is deprecated; in a future version of numpy, it will be understood as (type, (1,)) / '(1,)type'.\n",
      "  np_resource = np.dtype([(\"resource\", np.ubyte, 1)])\n"
     ]
    },
    {
     "output_type": "stream",
     "name": "stdout",
     "text": [
      "b'Hello TensorFlow!'\n"
     ]
    }
   ],
   "metadata": {}
  },
  {
   "cell_type": "markdown",
   "source": [
    "# 2. Understanding computational graphs and sessions [Hiểu về Computational Graph và Session]\n",
    "* **Computational Graph** hay còn dc hiểu là **biểu đổ tính toán**.\n",
    "* Mọi phép tính trong TensorFlow dc biểu thị bằng một computational graph, chúng gồm một số node và edge. Trong đó edge là các operation chẳng hạn như cộng trừ nhân chia, còn các cạnh là các tensor.\n",
    "* Một tensor là một mảng nhiều chiều.\n",
    "* Một computational graph bao gồm vài phép toán trên TensorFlow, dc sắp xếp trong một đồ thị của các node.\n",
    "* Chúng ta có thể trực quan hóa computational graph bằng **TensorBoard**.\n",
    "* Hãy xem xét phép tính cộng đơn giản dưới đây."
   ],
   "metadata": {}
  },
  {
   "cell_type": "code",
   "execution_count": 2,
   "source": [
    "import tensorflow as tf\n",
    "\n",
    "x = 2\n",
    "y = 3\n",
    "z = tf.add(x, y, name='Add')"
   ],
   "outputs": [],
   "metadata": {}
  },
  {
   "cell_type": "markdown",
   "source": [
    "* Lúc này đồ thị tính toán của đoạn code trên sẽ dc trực quan hóa như thế này:<br>\n",
    "  ![](./images/02.00.png)\n",
    "\n",
    "<hr>\n",
    "\n",
    "* Một computation graph rất hữu ích để chúng ta hiểu dc kiến trúc của network, nhất là đối vs các neural network phức tạp. Ví dụ, hãy xem xét layer sau:\n",
    "  $$h = Relu(\\mathbf{WX} + \\mathbf{b})$$\n",
    "  * Computation graph của công thức trên như sau:<br>\n",
    "    ![](./images/02.01.png)\n",
    "\n",
    "<hr>\n",
    "\n",
    "* Có hai loại phụ thuộc trong một computational graph là:\n",
    "  * **Direct dependency** [phụ thuộc trực tiếp]: Giả sử ta có một node `b` và node này phụ thuộc vào kết quả đầu ra của node `a`, thì đây chính là direct dependency.\n",
    "    ```python\n",
    "    a = tf.multiply(8, 5)\n",
    "    b = tf.multiply(a, 1)\n",
    "    ```\n",
    "  * **Indirect dependency** [phụ thuốc gián tiếp]: Khi việc tính toán một node `b` nào đó ko phụ thuộc vào đầu ra của node `a`.\n",
    "    ```python\n",
    "    a = tf.multiply(8, 5)\n",
    "    b = tf.multiply(4, 3)\n",
    "    ```\n",
    "\n",
    "<hr>\n",
    "\n",
    "* Bất cứ khi nào chúng ta import thư viện TensorFlow, thì một **defaul graph** [biểu đồ mặc định] sẽ dc khởi tạo tự động ngay lập tức và tất cả các node mà ta tạo ra sẽ liên kết trực tiếp đến default graph này.\n",
    "* Chúng ta cũng có thể tự tạo cho mình một graph bằng các sử dụng `tf.Graph()`, dưới đây là code demo:\n",
    "  ```python\n",
    "  graph = tf.Graph()\n",
    "\n",
    "  with graph.as_default():\n",
    "      z = tf.add(x, y, name='Add')\n",
    "  ```\n",
    "* Nếu chúng ta muốn xóa default graph (nghĩa là muốn xóa các biến và các phép tính đã dc định nghĩa trc đó) thì có thể sử dụng code sau để làm điều này:\n",
    "  ```python\n",
    "  tf.reset_default_graph()\n",
    "  ```"
   ],
   "metadata": {}
  },
  {
   "cell_type": "markdown",
   "source": [
    "## 2.1. Sessions\n",
    "* Để thực thi một computation graph với các phép tính trên các node và các tensor của nó, lúc này chúng ta sẽ sử dụng **TensorFlow Session** để làm điều này.\n",
    "* Một TensorFlow session có thể dc tạo ra bằng dòng lệnh `tf.Session()` và nó dc cấp phát bộ nhớ và lưu vào một biến, ví dụ:\n",
    "  ```python\n",
    "  sess = tf.Session()\n",
    "  ```\n",
    "* Sau khi tạo một sessin, chúng ta có thể thưc thi graph bằng phương thức `sess.run()`.\n",
    "* Mọi phép tính trong TensorFlow dc biểu diễn bằng một computational graph vậy nên chúng ta phải chạy (`run()`) các computational graph này khi chúng ta thực hiện các phép tính. Nói chung, khi chúng ta muốn tính toán bất kì thứ gì trên TensorFlow, chúng ta cần phải tạo ra một TensorFlow session.\n",
    "* Dưới đây là đoạn code dùng để nhân hai số:"
   ],
   "metadata": {}
  },
  {
   "cell_type": "code",
   "execution_count": 3,
   "source": [
    "a = tf.multiply(3, 3)\n",
    "\n",
    "print(a)"
   ],
   "outputs": [
    {
     "output_type": "stream",
     "name": "stdout",
     "text": [
      "Tensor(\"Mul:0\", shape=(), dtype=int32)\n"
     ]
    }
   ],
   "metadata": {}
  },
  {
   "cell_type": "markdown",
   "source": [
    "* ...\n",
    "  * Thay vì in ra:\n",
    "    > 9\n",
    "    \n",
    "    đoạn code trên in ra một TensorFlow object:\n",
    "    > Tensor(\"Mul:0\", shape=(), dtype=int32)\n",
    "    \n",
    "* Như đã đề cập trc đây, bất cứ khi nào chúng ta import thư viện TenforFlow, một default graph sẽ dc tự động tạo ra và tất cả các node sẽ được liên kết đến default graph này. Vậy nên khi chúng ta dùng lệnh:\n",
    "  ```python\n",
    "  print(a)\n",
    "  ```\n",
    "  thì nó sẽ chỉ trả về một TensorFlow object vì lúc này giá trị của `a` vẫn chưa dc tính toán, vì computational graph vẫn chưa dc thực thi, tức `run()`.\n",
    "* Để thực thi một graph, chúng ta cần phải `run()` TensorFlow session như sau:"
   ],
   "metadata": {}
  },
  {
   "cell_type": "code",
   "execution_count": 4,
   "source": [
    "a = tf.multiply(3, 3)\n",
    "\n",
    "with tf.Session() as sess:\n",
    "    print(sess.run(a))"
   ],
   "outputs": [
    {
     "output_type": "stream",
     "name": "stdout",
     "text": [
      "9\n"
     ]
    }
   ],
   "metadata": {}
  },
  {
   "cell_type": "markdown",
   "source": [
    "* ...\n",
    "  * Lúc này kết quả đã in ra đúng như những gì chúng ta mong đợi.\n",
    "    > 9"
   ],
   "metadata": {}
  },
  {
   "cell_type": "markdown",
   "source": [
    "# 3. Variables, constants, and placeholders\n",
    "* **Variable**, **constant** và **placeholder** là  các yếu tố cơ bản của TensorFlow. Tuy nhiên, luôn có sự nhầm lẫn giữa ba yếu tố này. Bây giờ hãy xem xét từng yếu tố và tìm hiểu sự khác biệt giữa chúng."
   ],
   "metadata": {}
  },
  {
   "cell_type": "markdown",
   "source": [
    "## 3.1. Variables\n",
    "* Variable là các vùng chứa để lưu các giá trị. Các variable dc sử dụng làm đầu vào input cho các phép tính trên computational graph.\n",
    "* Một variable có thể dc tạo ra bằng đoạn code dưới đây:"
   ],
   "metadata": {}
  },
  {
   "cell_type": "code",
   "execution_count": 5,
   "source": [
    "x = tf.Variable(13)"
   ],
   "outputs": [
    {
     "output_type": "stream",
     "name": "stdout",
     "text": [
      "WARNING:tensorflow:From /home/manhcuong/anaconda3/envs/python3.6/lib/python3.6/site-packages/tensorflow/python/framework/op_def_library.py:263: colocate_with (from tensorflow.python.framework.ops) is deprecated and will be removed in a future version.\n",
      "Instructions for updating:\n",
      "Colocations handled automatically by placer.\n"
     ]
    }
   ],
   "metadata": {}
  },
  {
   "cell_type": "markdown",
   "source": [
    "* Hãy tạo ra một biến `W` bằng `tf.Variable()` như sau:"
   ],
   "metadata": {}
  },
  {
   "cell_type": "code",
   "execution_count": 6,
   "source": [
    "W = tf.Variable(tf.random_normal([500, 111], stddev=0.35), name='weights')"
   ],
   "outputs": [],
   "metadata": {}
  },
  {
   "cell_type": "markdown",
   "source": [
    "* ...\n",
    "  * Đoạn code trên dc dùng để tạo ra biến `W` bằng cách lấy ngẫu nhiên các giá trị từ phân phối chuẩn với độ lệch chuẩn là $0.35$.\n",
    "  * Tham số `name` được sử dụng để định danh cho variable trong computational graph. Với đoạn code trên, Python lưu variable `W` của chúng ta bên trong TensorFlow graph với tên định danh là `weights`.\n",
    "\n",
    "<hr>\n",
    "\n",
    "* Chúng ta có thể khởi tạo một variable mới với giá trị từ một biến khác bằng cách sử dụng `initialized_value()`. Ví dụ, nếu chúng ta muốn tạo ra một variable mới có định danh là `weights_2`, chúng ta có thể sử dụng variable dc định danh là `weights` từ trc như sau:"
   ],
   "metadata": {}
  },
  {
   "cell_type": "code",
   "execution_count": 7,
   "source": [
    "W2 = tf.Variable(W.initialized_value(), name='weights_2')"
   ],
   "outputs": [],
   "metadata": {}
  },
  {
   "cell_type": "markdown",
   "source": [
    "<hr>\n",
    "\n",
    "* Đôi khi chúng ta muốn tạo ra một variable mà nó bao gồm tất cả các variable trong đã có trong computational graph, thì có thể sử dụng ` tf.global_variables_initializer()`.\n",
    "* Khi chúng ta tạo ra một session. Trước tiên chúng ta cần chạy tất cả các variable đã dc định nghĩa trong computational graph trước, sau đó chúng ta mới có thể chạy các phép tính khác, như sau:"
   ],
   "metadata": {}
  },
  {
   "cell_type": "code",
   "execution_count": 8,
   "source": [
    "x = tf.Variable(1212)\n",
    "init = tf.global_variables_initializer()\n",
    "\n",
    "with tf.Session() as sess:\n",
    "    sess.run(init)\n",
    "    print(sess.run(x))"
   ],
   "outputs": [
    {
     "output_type": "stream",
     "name": "stdout",
     "text": [
      "1212\n"
     ]
    }
   ],
   "metadata": {}
  },
  {
   "cell_type": "markdown",
   "source": [
    "<hr>\n",
    "\n",
    "* Chúng ta cũng có thể tạo một TensorFlow variable bằng cách sử dụng `tf.get_variable()` bao gồm ba tham số quan trọng là `name`, `shape` và `initializer`.\n",
    "* Không giống như `tf.Variable()`, chúng ta phải truyền giá trị thông qua tham số `initializer`. Có một số `initializer` phổ biến dùng để khởi tạo các giá trị. Ví dụ `tf.constant_initializer(<value>)` - khởi tạo variable với giá trị ko đổi và `tf.random_normal_initializer(<mean>, <stddev>)` - khởi tạo variable bằng cách lấy ngẫu nhiên các giá trị từ phân phối chuẩn với giá trị trung bình `<mean>` và độ lệch chuẩn `<stddev>` được chỉ định.\n",
    "* Khi một variable được tạo ra bằng `tf.Variable(0)`, tức lúc này một variable mới dc tạo ra. Nhưng nếu một variable dc tạo ra bằng `tf.get_variable()` nó sẽ kiểm tra computational graph đã tồn tại variable đó thông qua định dạnh `name` chưa, nếu chưa thì nó sẽ tạo ra variable mới với định danh này, còn nếu đã tồn tại rồi, thì nó sẽ sử dụng lại."
   ],
   "metadata": {}
  },
  {
   "cell_type": "code",
   "execution_count": 9,
   "source": [
    "W3 = tf.get_variable(name='weights', shape=[500, 111], initializer=tf.random_normal_initializer())"
   ],
   "outputs": [],
   "metadata": {}
  },
  {
   "cell_type": "markdown",
   "source": [
    "<hr>\n",
    "\n",
    "* Bởi vì `tf.get_variable()` có thể sử dụng lại các biến đã định nghĩa trc đây. Nhưng có một vấn đề xảy ra là bị **xung đột** về định danh, và để tránh vấn đề này chúng ta sử dụng `tf.variable_scope()` như code dưới đây"
   ],
   "metadata": {}
  },
  {
   "cell_type": "code",
   "execution_count": 10,
   "source": [
    "with tf.variable_scope('scope'):\n",
    "    a = tf.get_variable('x', [2])\n",
    "    print(a)\n",
    "    \n",
    "with tf.variable_scope('scope', reuse=True): # lưu ý tham số `reuse`\n",
    "    b = tf.get_variable('x', [2])\n",
    "    print(b)"
   ],
   "outputs": [
    {
     "output_type": "stream",
     "name": "stdout",
     "text": [
      "<tf.Variable 'scope/x:0' shape=(2,) dtype=float32_ref>\n",
      "<tf.Variable 'scope/x:0' shape=(2,) dtype=float32_ref>\n"
     ]
    }
   ],
   "metadata": {}
  },
  {
   "cell_type": "code",
   "execution_count": 11,
   "source": [
    "print(a.name)\n",
    "print(b.name)"
   ],
   "outputs": [
    {
     "output_type": "stream",
     "name": "stdout",
     "text": [
      "scope/x:0\n",
      "scope/x:0\n"
     ]
    }
   ],
   "metadata": {}
  },
  {
   "cell_type": "markdown",
   "source": [
    "* ...\n",
    "  * Bạn có thể thấy rằng khi chạy các dòng code trên khi ta sử dụng tham số `reuse` thì các biến này chia sẻ chung vùng nhớ với nhau."
   ],
   "metadata": {}
  },
  {
   "cell_type": "markdown",
   "source": [
    "## 3.2. Constant\n",
    "* Các constant ko giống như các variable, ko thể thay đổi giá trị của chúng, chúng bất biến.\n",
    "* Chúng ta có thể tạo ra một constant bằng `tf.constant()` như đoạn mã dưới đây:\n",
    "  ```python\n",
    "  x = tf.constant(13)\n",
    "  ```"
   ],
   "metadata": {}
  },
  {
   "cell_type": "markdown",
   "source": [
    "## 3.3. Placeholder and feed dictionaries\n",
    "* Chúng ta có thể hình dung placeholder như variable vậy, nơi chúng ta chỉ định kiểu dữ liệu và số chiều nhưng ko cung cấp giá trị cho nó. Chúng ta cung cấp dữ liệu cho computational graph bằng cách sử dụng placeholder. Nói chung placeholde ko có giá trị.\n",
    "* Một placeholder có thể dc xác định bằng `tf.placeholder()`. Nó nhận vào một tham số là `shape` và tham số này dùng để chỉ định số chiều của dữ liệu. Nếu `shape` là `None` thì chúng ta có thể cung cấp dữ liệu cho computational graph ở bất kì kích thước nào.\n",
    "* Một placeholder có thể dc định nghĩa như sau:\n",
    "  ```python\n",
    "  x = tf.placeholder('float', shape=None)\n",
    "  ```\n",
    "* Hãy thử một ví dụ sau:"
   ],
   "metadata": {}
  },
  {
   "cell_type": "markdown",
   "source": [
    "```python\n",
    "x = tf.placeholder('float', None)\n",
    "y = x + 3\n",
    "\n",
    "with tf.Session() as sess:\n",
    "    result = sess.run(y)\n",
    "    print(result)\n",
    "```"
   ],
   "metadata": {}
  },
  {
   "cell_type": "markdown",
   "source": [
    "* ...\n",
    "  * Đoạn code trên nếu biên dịch sẽ bị lỗi vì chúng ta đang cố tính toán cho biến `y` trong khi trong khi `x` là placeholder và nó ko có giá trị.\n",
    "* Chúng ta nên lưu ý placeholder chỉ dc chỉ định giá trị trong lúc chạy.\n",
    "* Chúng ta có thể gán giá trị cho placeholder bằng tham số `feed_dict`, tham số này là một từ điển trong đó key đại diện cho tên của placeholder và value đại diện cho giá trị của placeholder.\n",
    "* Đoạn code phía trên có thể chỉnh sửa lại như dưới đây để ko bị lỗi:"
   ],
   "metadata": {}
  },
  {
   "cell_type": "code",
   "execution_count": 12,
   "source": [
    "x = tf.placeholder('float', None)\n",
    "y = x + 3\n",
    "\n",
    "with tf.Session() as sess:\n",
    "    result = sess.run(y, feed_dict={x:5})\n",
    "    print(result)"
   ],
   "outputs": [
    {
     "output_type": "stream",
     "name": "stdout",
     "text": [
      "8.0\n"
     ]
    }
   ],
   "metadata": {}
  },
  {
   "cell_type": "markdown",
   "source": [
    "* Vậy điều gì sẽ xảy ra nếu ta khai báo `x` bao gồm nhiều giá trị. Hãy nhớ placeholder có một tham số là `shape` và nếu ta chỉ định nó là `None` thì lúc này ta có thể chỉ định `feed_dict` là bất kì giá trị nào, như đoạn code dưới đây:"
   ],
   "metadata": {}
  },
  {
   "cell_type": "code",
   "execution_count": 13,
   "source": [
    "x = tf.placeholder('float', None)\n",
    "y = x + 3\n",
    "\n",
    "with tf.Session() as sess:\n",
    "    result = sess.run(y, feed_dict={x:[3, 6, 9]})\n",
    "    print(result)"
   ],
   "outputs": [
    {
     "output_type": "stream",
     "name": "stdout",
     "text": [
      "[ 6.  9. 12.]\n"
     ]
    }
   ],
   "metadata": {}
  },
  {
   "cell_type": "markdown",
   "source": [
    "<hr>\n",
    "\n",
    "* Bây giờ chạy code sau:"
   ],
   "metadata": {}
  },
  {
   "cell_type": "code",
   "execution_count": 14,
   "source": [
    "x = tf.placeholder('float', [None, 2]) # chú ý ngay đây\n",
    "y = x + 3\n",
    "\n",
    "with tf.Session() as sess:\n",
    "    x_val = [[1, 2], [3, 4], [5, 6], [7, 8]]\n",
    "    result = sess.run(y, feed_dict={x: x_val})\n",
    "    print(result)"
   ],
   "outputs": [
    {
     "output_type": "stream",
     "name": "stdout",
     "text": [
      "[[ 4.  5.]\n",
      " [ 6.  7.]\n",
      " [ 8.  9.]\n",
      " [10. 11.]]\n"
     ]
    }
   ],
   "metadata": {}
  },
  {
   "cell_type": "markdown",
   "source": [
    "* ...\n",
    "  * Lúc này ta định nghĩa `x` có `shape` là một ma trận mà ko có số dòng dc chỉ định nhưng phải có chính xác 2 cột."
   ],
   "metadata": {}
  },
  {
   "cell_type": "markdown",
   "source": [
    "# 4. Introducing TensorBoard\n",
    "* Bây giờ chúng ta sẽ xây dựng một computational graph cơ bản và visualize nó trên TensorBoard, hãy thử đoạn code dưới đây:"
   ],
   "metadata": {}
  },
  {
   "cell_type": "code",
   "execution_count": 15,
   "source": [
    "tf.reset_default_graph() # clear default \n",
    "\n",
    "x = tf.constant(1, name='x')\n",
    "y = tf.constant(2, name='y')\n",
    "a = tf.constant(3, name='a')\n",
    "b = tf.constant(3, name='b')"
   ],
   "outputs": [],
   "metadata": {}
  },
  {
   "cell_type": "markdown",
   "source": [
    "* Bây giờ ta sẽ nhân `x` cho `y`, `a` cho `b` và lần lượt lưu chúng vào hai biến là `prod1` và `prod2`, như sau:"
   ],
   "metadata": {}
  },
  {
   "cell_type": "code",
   "execution_count": 16,
   "source": [
    "prod1 = tf.multiply(x, y, name='prod1')\n",
    "prod2 = tf.multiply(a, b, name='prod2')"
   ],
   "outputs": [],
   "metadata": {}
  },
  {
   "cell_type": "markdown",
   "source": [
    "* Bây giờ ta cộng `prod1` và `prod2` lại với nhau và lưu vào biến `sum`:"
   ],
   "metadata": {}
  },
  {
   "cell_type": "code",
   "execution_count": 17,
   "source": [
    "sum = tf.add(prod1, prod2, name='sum')"
   ],
   "outputs": [],
   "metadata": {}
  },
  {
   "cell_type": "markdown",
   "source": [
    "* Bây giờ chúng ta sẽ visualize cái đồng này lên TensorBoard bằng cách sử dụng `tf.summary.FileWriter()`, hàm này nhận vào hai tham số là `logdir` - đường dẫn nơi muốn lưu graph lại và `graph` - graph mà ta cần visualize, hãy thử code dưới đây:"
   ],
   "metadata": {}
  },
  {
   "cell_type": "code",
   "execution_count": 18,
   "source": [
    "with tf.Session() as sess:\n",
    "    writer = tf.summary.FileWriter(logdir=\"./graphs/02_00\", graph=sess.graph)\n",
    "    print(sess.run(sum))"
   ],
   "outputs": [
    {
     "output_type": "stream",
     "name": "stdout",
     "text": [
      "11\n"
     ]
    }
   ],
   "metadata": {}
  },
  {
   "cell_type": "markdown",
   "source": [
    "* Để chạy TensorBoard, mở terminal lên và đi đến thư mục làm việc (tại đây là _Chapter 02. Getting to Know TensorFlow_), ghõ lệnh sau:\n",
    "  ```shell\n",
    "  tensorboard --logdir=graphs/02_00 --port=8000\n",
    "  ```\n",
    "  * Ở đây tham số `--logdir` là thư mực chứa file dùng để vẽ, `--port` là cổng.\n",
    "* Tiếp theo, ta mở trình duyệt và đi đến URL: [http://localhost:8000/](http://localhost:8000/).\n",
    "  ![](images/02.02.png)\n",
    "* Dưới đây là hình cắt ra của computational graph:\n",
    "  ![](./images/02.03.png)"
   ],
   "metadata": {}
  },
  {
   "cell_type": "markdown",
   "source": [
    "## 4.1. Creating a name scope [Tạo phạm vi tên]\n",
    "* Scope thường dc sử dụng để giảm độ phức tạp và giúp chúng ta hiểu rõ hơn về một model bằng cách **nhóm** các node liên quan lại với nhau. Việc đặt một **scope name** giúp chúng ta nhóm các phép tính tương tự trong một graph. Nó rất hữu ích khi chúng ta xây dựng một cấu trúc mạng phức tạp.\n",
    "* Scope có thể dc tạo ra bằng `tf.name_scope()`. Trong đoạn code trc, chúng ta thực hiện hai phép tính là multiply và một phép tính add. Bây giờ chúng ta sẽ tạo ra một scope là `Product` dùng để khoanh vùng hai phép multiply và `sum` để khoanh vùng cho phép tính add, theo dõi code dưới đây:"
   ],
   "metadata": {}
  },
  {
   "cell_type": "code",
   "execution_count": 19,
   "source": [
    "tf.reset_default_graph() # clear default \n",
    "\n",
    "x = tf.constant(1, name='x')\n",
    "y = tf.constant(2, name='y')\n",
    "a = tf.constant(3, name='a')\n",
    "b = tf.constant(3, name='b')"
   ],
   "outputs": [],
   "metadata": {}
  },
  {
   "cell_type": "code",
   "execution_count": 20,
   "source": [
    "with tf.name_scope(\"Product\"):\n",
    "    with tf.name_scope('prod1'):\n",
    "        prod1 = tf.multiply(x, y, name='prod1')\n",
    "    \n",
    "    with tf.name_scope('prod2'):\n",
    "        prod2 = tf.multiply(a, b, name='prod2')"
   ],
   "outputs": [],
   "metadata": {}
  },
  {
   "cell_type": "code",
   "execution_count": 21,
   "source": [
    "with tf.name_scope('sum'):\n",
    "    sum = tf.add(prod1, prod2, name='sum')"
   ],
   "outputs": [],
   "metadata": {}
  },
  {
   "cell_type": "code",
   "execution_count": 22,
   "source": [
    "with tf.Session() as sess:\n",
    "    writer = tf.summary.FileWriter(\"./graphs/02_01\", sess.graph)\n",
    "    print(sess.run(sum))"
   ],
   "outputs": [
    {
     "output_type": "stream",
     "name": "stdout",
     "text": [
      "11\n"
     ]
    }
   ],
   "metadata": {}
  },
  {
   "cell_type": "markdown",
   "source": [
    "* Trực quan hóa lên bằng lệnh dưới đây trong thư mục _Chapter 02. Getting to Know TensorFlow_:\n",
    "  ```shell\n",
    "  tensorboard --logdir=graphs/02_01 --port=8000\n",
    "  ```\n",
    "  ![](./images/02.04.gif)\n",
    "  ![](./images/02.05.png)"
   ],
   "metadata": {}
  },
  {
   "cell_type": "markdown",
   "source": [],
   "metadata": {}
  }
 ],
 "metadata": {
  "orig_nbformat": 4,
  "language_info": {
   "name": "python",
   "version": "3.6.8",
   "mimetype": "text/x-python",
   "codemirror_mode": {
    "name": "ipython",
    "version": 3
   },
   "pygments_lexer": "ipython3",
   "nbconvert_exporter": "python",
   "file_extension": ".py"
  },
  "kernelspec": {
   "name": "python3",
   "display_name": "Python 3.6.8 64-bit ('python3.6': conda)"
  },
  "interpreter": {
   "hash": "2cade657992b47716e26d0a9b1443bfbca37741f9a577328e2d148cb3e78348d"
  }
 },
 "nbformat": 4,
 "nbformat_minor": 2
}