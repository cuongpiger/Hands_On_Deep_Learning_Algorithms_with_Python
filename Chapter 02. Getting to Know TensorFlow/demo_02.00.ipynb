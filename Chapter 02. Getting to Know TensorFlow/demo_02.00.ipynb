{
 "cells": [
  {
   "cell_type": "markdown",
   "source": [
    "# 1. What is TensorFlow? [TensorFlow là gì?]\n",
    "###### Cài đặt TensorFlow\n",
    "* Trong chương này sẽ sử dụng **TensorFlow** version `1.13.1`, yêu cầu với version này là **Python** chạy version `3.6.8`.\n",
    "* Cài đặt Python bản `3.6.8` trên Anaconda và nhập lệnh sau:\n",
    "  ```\n",
    "  # terminal\n",
    "  conda create -n python3.6 python=3.6.8 anaconda\n",
    "  \n",
    "  # activate python3.6 env\n",
    "  conda activate python3.6\n",
    "\n",
    "  # install pip package\n",
    "  conda install pip\n",
    "\n",
    "  # install tensorflow package\n",
    "  pip install tensorflow==1.13.1\n",
    "  ```\n",
    "* Có thể xem chi tiết hơn [tại đây](https://uoa-eresearch.github.io/eresearch-cookbook/recipe/2014/11/20/conda/)."
   ],
   "metadata": {}
  },
  {
   "cell_type": "markdown",
   "source": [
    "###### Vài dòng code với TensorFlow\n",
    "* Kiểm tra `tensorflow` có dc cài đặt thành công hay ko."
   ],
   "metadata": {}
  },
  {
   "cell_type": "code",
   "execution_count": 1,
   "source": [
    "import tensorflow as tf\n",
    "\n",
    "hello = tf.constant(\"Hello TensorFlow!\")\n",
    "sess = tf.Session()\n",
    "\n",
    "print(sess.run(hello))"
   ],
   "outputs": [
    {
     "output_type": "stream",
     "name": "stderr",
     "text": [
      "/home/manhcuong/anaconda3/envs/python3.6/lib/python3.6/site-packages/tensorflow/python/framework/dtypes.py:526: FutureWarning: Passing (type, 1) or '1type' as a synonym of type is deprecated; in a future version of numpy, it will be understood as (type, (1,)) / '(1,)type'.\n",
      "  _np_qint8 = np.dtype([(\"qint8\", np.int8, 1)])\n",
      "/home/manhcuong/anaconda3/envs/python3.6/lib/python3.6/site-packages/tensorflow/python/framework/dtypes.py:527: FutureWarning: Passing (type, 1) or '1type' as a synonym of type is deprecated; in a future version of numpy, it will be understood as (type, (1,)) / '(1,)type'.\n",
      "  _np_quint8 = np.dtype([(\"quint8\", np.uint8, 1)])\n",
      "/home/manhcuong/anaconda3/envs/python3.6/lib/python3.6/site-packages/tensorflow/python/framework/dtypes.py:528: FutureWarning: Passing (type, 1) or '1type' as a synonym of type is deprecated; in a future version of numpy, it will be understood as (type, (1,)) / '(1,)type'.\n",
      "  _np_qint16 = np.dtype([(\"qint16\", np.int16, 1)])\n",
      "/home/manhcuong/anaconda3/envs/python3.6/lib/python3.6/site-packages/tensorflow/python/framework/dtypes.py:529: FutureWarning: Passing (type, 1) or '1type' as a synonym of type is deprecated; in a future version of numpy, it will be understood as (type, (1,)) / '(1,)type'.\n",
      "  _np_quint16 = np.dtype([(\"quint16\", np.uint16, 1)])\n",
      "/home/manhcuong/anaconda3/envs/python3.6/lib/python3.6/site-packages/tensorflow/python/framework/dtypes.py:530: FutureWarning: Passing (type, 1) or '1type' as a synonym of type is deprecated; in a future version of numpy, it will be understood as (type, (1,)) / '(1,)type'.\n",
      "  _np_qint32 = np.dtype([(\"qint32\", np.int32, 1)])\n",
      "/home/manhcuong/anaconda3/envs/python3.6/lib/python3.6/site-packages/tensorflow/python/framework/dtypes.py:535: FutureWarning: Passing (type, 1) or '1type' as a synonym of type is deprecated; in a future version of numpy, it will be understood as (type, (1,)) / '(1,)type'.\n",
      "  np_resource = np.dtype([(\"resource\", np.ubyte, 1)])\n"
     ]
    },
    {
     "output_type": "stream",
     "name": "stdout",
     "text": [
      "b'Hello TensorFlow!'\n"
     ]
    }
   ],
   "metadata": {}
  },
  {
   "cell_type": "markdown",
   "source": [
    "# 2. Understanding computational graphs and sessions [Hiểu về Computational Graph và Session]\n",
    "* **Computational Graph** hay còn dc hiểu là **biểu đổ tính toán**.\n",
    "* Mọi phép tính trong TensorFlow dc biểu thị bằng một computational graph, chúng gồm một số node và edge. Trong đó edge là các operation chẳng hạn như cộng trừ nhân chia, còn các cạnh là các tensor.\n",
    "* Một tensor là một mảng nhiều chiều.\n",
    "* Một computational graph bao gồm vài phép toán trên TensorFlow, dc sắp xếp trong một đồ thị của các node.\n",
    "* Chúng ta có thể trực quan hóa computational graph bằng **TensorBoard**.\n",
    "* Hãy xem xét phép tính cộng đơn giản dưới đây."
   ],
   "metadata": {}
  },
  {
   "cell_type": "code",
   "execution_count": 2,
   "source": [
    "import tensorflow as tf\n",
    "\n",
    "x = 2\n",
    "y = 3\n",
    "z = tf.add(x, y, name='Add')"
   ],
   "outputs": [],
   "metadata": {}
  },
  {
   "cell_type": "markdown",
   "source": [
    "* Lúc này đồ thị tính toán của đoạn code trên sẽ dc trực quan hóa như thế này:<br>\n",
    "  ![](./images/02.00.png)\n",
    "\n",
    "<hr>\n",
    "\n",
    "* Một computation graph rất hữu ích để chúng ta hiểu dc kiến trúc của network, nhất là đối vs các neural network phức tạp. Ví dụ, hãy xem xét layer sau:\n",
    "  $$h = Relu(\\mathbf{WX} + \\mathbf{b})$$\n",
    "  * Computation graph của công thức trên như sau:<br>\n",
    "    ![](./images/02.01.png)\n",
    "\n",
    "<hr>\n",
    "\n",
    "* Có hai loại phụ thuộc trong một computational graph là:\n",
    "  * **Direct dependency** [phụ thuộc trực tiếp]: Giả sử ta có một node `b` và node này phụ thuộc vào kết quả đầu ra của node `a`, thì đây chính là direct dependency.\n",
    "    ```python\n",
    "    a = tf.multiply(8, 5)\n",
    "    b = tf.multiply(a, 1)\n",
    "    ```\n",
    "  * **Indirect dependency** [phụ thuốc gián tiếp]: Khi việc tính toán một node `b` nào đó ko phụ thuộc vào đầu ra của node `a`.\n",
    "    ```python\n",
    "    a = tf.multiply(8, 5)\n",
    "    b = tf.multiply(4, 3)\n",
    "    ```\n",
    "\n",
    "<hr>\n",
    "\n",
    "* Bất cứ khi nào chúng ta import thư viện TensorFlow, thì một **defaul graph** [biểu đồ mặc định] sẽ dc khởi tạo tự động ngay lập tức và tất cả các node mà ta tạo ra sẽ liên kết trực tiếp đến default graph này.\n",
    "* Chúng ta cũng có thể tự tạo cho mình một graph bằng các sử dụng `tf.Graph()`, dưới đây là code demo:\n",
    "  ```python\n",
    "  graph = tf.Graph()\n",
    "\n",
    "  with graph.as_default():\n",
    "      z = tf.add(x, y, name='Add')\n",
    "  ```\n",
    "* Nếu chúng ta muốn xóa default graph (nghĩa là muốn xóa các biến và các phép tính đã dc định nghĩa trc đó) thì có thể sử dụng code sau để làm điều này:\n",
    "  ```python\n",
    "  tf.reset_default_graph()\n",
    "  ```"
   ],
   "metadata": {}
  },
  {
   "cell_type": "markdown",
   "source": [
    "## 2.1. Sessions\n",
    "* Để thực thi một computation graph với các phép tính trên các node và các tensor của nó, lúc này chúng ta sẽ sử dụng **TensorFlow Session** để làm điều này.\n",
    "* Một TensorFlow session có thể dc tạo ra bằng dòng lệnh `tf.Session()` và nó dc cấp phát bộ nhớ và lưu vào một biến, ví dụ:\n",
    "  ```python\n",
    "  sess = tf.Session()\n",
    "  ```\n",
    "* Sau khi tạo một sessin, chúng ta có thể thưc thi graph bằng phương thức `sess.run()`.\n",
    "* Mọi phép tính trong TensorFlow dc biểu diễn bằng một computational graph vậy nên chúng ta phải chạy (`run()`) các computational graph này khi chúng ta thực hiện các phép tính. Nói chung, khi chúng ta muốn tính toán bất kì thứ gì trên TensorFlow, chúng ta cần phải tạo ra một TensorFlow session.\n",
    "* Dưới đây là đoạn code dùng để nhân hai số:"
   ],
   "metadata": {}
  },
  {
   "cell_type": "code",
   "execution_count": 3,
   "source": [
    "a = tf.multiply(3, 3)\n",
    "\n",
    "print(a)"
   ],
   "outputs": [
    {
     "output_type": "stream",
     "name": "stdout",
     "text": [
      "Tensor(\"Mul:0\", shape=(), dtype=int32)\n"
     ]
    }
   ],
   "metadata": {}
  },
  {
   "cell_type": "markdown",
   "source": [
    "* ...\n",
    "  * Thay vì in ra:\n",
    "    > 9\n",
    "    \n",
    "    đoạn code trên in ra một TensorFlow object:\n",
    "    > Tensor(\"Mul:0\", shape=(), dtype=int32)\n",
    "    \n",
    "* Như đã đề cập trc đây, bất cứ khi nào chúng ta import thư viện TenforFlow, một default graph sẽ dc tự động tạo ra và tất cả các node sẽ được liên kết đến default graph này. Vậy nên khi chúng ta dùng lệnh:\n",
    "  ```python\n",
    "  print(a)\n",
    "  ```\n",
    "  thì nó sẽ chỉ trả về một TensorFlow object vì lúc này giá trị của `a` vẫn chưa dc tính toán, vì computational graph vẫn chưa dc thực thi, tức `run()`."
   ],
   "metadata": {}
  },
  {
   "cell_type": "markdown",
   "source": [],
   "metadata": {}
  }
 ],
 "metadata": {
  "orig_nbformat": 4,
  "language_info": {
   "name": "python",
   "version": "3.6.8",
   "mimetype": "text/x-python",
   "codemirror_mode": {
    "name": "ipython",
    "version": 3
   },
   "pygments_lexer": "ipython3",
   "nbconvert_exporter": "python",
   "file_extension": ".py"
  },
  "kernelspec": {
   "name": "python3",
   "display_name": "Python 3.6.8 64-bit ('python3.6': conda)"
  },
  "interpreter": {
   "hash": "2cade657992b47716e26d0a9b1443bfbca37741f9a577328e2d148cb3e78348d"
  }
 },
 "nbformat": 4,
 "nbformat_minor": 2
}